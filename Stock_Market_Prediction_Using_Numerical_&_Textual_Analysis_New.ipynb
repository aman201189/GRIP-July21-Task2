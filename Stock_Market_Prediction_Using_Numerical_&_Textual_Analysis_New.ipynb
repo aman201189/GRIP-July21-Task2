{
  "nbformat": 4,
  "nbformat_minor": 0,
  "metadata": {
    "kernelspec": {
      "display_name": "Python 3",
      "language": "python",
      "name": "python3"
    },
    "language_info": {
      "codemirror_mode": {
        "name": "ipython",
        "version": 3
      },
      "file_extension": ".py",
      "mimetype": "text/x-python",
      "name": "python",
      "nbconvert_exporter": "python",
      "pygments_lexer": "ipython3",
      "version": "3.7.3"
    },
    "colab": {
      "name": "Stock_Market_Prediction_Using Numerical_&_Textual_Analysis.ipynb",
      "provenance": [],
      "collapsed_sections": []
    }
  },
  "cells": [
    {
      "cell_type": "markdown",
      "metadata": {
        "id": "eQsra5OIT27g"
      },
      "source": [
        "# Stock Market Prediction Using Numerical & Textual Analysis"
      ]
    },
    {
      "cell_type": "markdown",
      "metadata": {
        "id": "CmAV9N5fT27l"
      },
      "source": [
        "Aman Raj\n",
        "\n",
        "Datasets : \n",
        "    Historical S&P BSE Sensex Data : https://finance.yahoo.com/ || \n",
        "    Textual News Headlines : https://bit.ly/36fFPI6\n"
      ]
    },
    {
      "cell_type": "markdown",
      "metadata": {
        "id": "7fkpib8MT27m"
      },
      "source": [
        "# Importing Libraries"
      ]
    },
    {
      "cell_type": "code",
      "metadata": {
        "id": "v8N-y57DT27m"
      },
      "source": [
        "import math\n",
        "import pandas as pd\n",
        "import numpy as np\n",
        "\n",
        "import matplotlib.pyplot as plt\n",
        "import seaborn as sns\n",
        "\n",
        "from keras.models import Sequential\n",
        "from keras.layers import Dense, LSTM, Dropout, Dense, Activation\n",
        "\n",
        "import nltk\n",
        "from nltk.classify import NaiveBayesClassifier\n",
        "from nltk.corpus import subjectivity\n",
        "from nltk.sentiment import SentimentAnalyzer\n",
        "from nltk.sentiment.util import *\n",
        "\n",
        "from sklearn import preprocessing, metrics\n",
        "from sklearn.preprocessing import MinMaxScaler"
      ],
      "execution_count": null,
      "outputs": []
    },
    {
      "cell_type": "code",
      "metadata": {
        "id": "LUtenskQT27o"
      },
      "source": [
        "# reading the datasets using pandas\n",
        "dtypes = {\n",
        "    \"row_id\": \"int64\",\n",
        "    \"timestamp\": \"int64\",\n",
        "    \"user_id\": \"int32\",\n",
        "    \"content_id\": \"int16\",\n",
        "    \"content_type_id\": \"boolean\",\n",
        "    \"task_container_id\": \"int16\",\n",
        "    \"user_answer\": \"int8\",\n",
        "    \"answered_correctly\": \"int8\",\n",
        "    \"prior_question_elapsed_time\": \"float32\", \n",
        "    \"prior_question_had_explanation\": \"boolean\"\n",
        "}\n",
        "\n",
        "stock_price = pd.read_csv('/Sensex_Data.csv')\n",
        "stock_headlines = pd.read_csv('/NewsHeadlines.csv', dtype=dtypes)"
      ],
      "execution_count": null,
      "outputs": []
    },
    {
      "cell_type": "code",
      "metadata": {
        "colab": {
          "base_uri": "https://localhost:8080/",
          "height": 203
        },
        "id": "amfKFwm5T27o",
        "outputId": "dd29f0b6-d847-406d-ccd4-ab1a01f93bde"
      },
      "source": [
        "# stock price dataset\n",
        "stock_price.head()"
      ],
      "execution_count": null,
      "outputs": [
        {
          "output_type": "execute_result",
          "data": {
            "text/html": [
              "<div>\n",
              "<style scoped>\n",
              "    .dataframe tbody tr th:only-of-type {\n",
              "        vertical-align: middle;\n",
              "    }\n",
              "\n",
              "    .dataframe tbody tr th {\n",
              "        vertical-align: top;\n",
              "    }\n",
              "\n",
              "    .dataframe thead th {\n",
              "        text-align: right;\n",
              "    }\n",
              "</style>\n",
              "<table border=\"1\" class=\"dataframe\">\n",
              "  <thead>\n",
              "    <tr style=\"text-align: right;\">\n",
              "      <th></th>\n",
              "      <th>Date</th>\n",
              "      <th>Open</th>\n",
              "      <th>High</th>\n",
              "      <th>Low</th>\n",
              "      <th>Close</th>\n",
              "      <th>Adj Close</th>\n",
              "      <th>Volume</th>\n",
              "    </tr>\n",
              "  </thead>\n",
              "  <tbody>\n",
              "    <tr>\n",
              "      <th>0</th>\n",
              "      <td>2001-01-02</td>\n",
              "      <td>0.265625</td>\n",
              "      <td>0.272321</td>\n",
              "      <td>0.260045</td>\n",
              "      <td>0.265625</td>\n",
              "      <td>0.229537</td>\n",
              "      <td>452312000</td>\n",
              "    </tr>\n",
              "    <tr>\n",
              "      <th>1</th>\n",
              "      <td>2001-01-03</td>\n",
              "      <td>0.258929</td>\n",
              "      <td>0.297991</td>\n",
              "      <td>0.257813</td>\n",
              "      <td>0.292411</td>\n",
              "      <td>0.252684</td>\n",
              "      <td>817073600</td>\n",
              "    </tr>\n",
              "    <tr>\n",
              "      <th>2</th>\n",
              "      <td>2001-01-04</td>\n",
              "      <td>0.323940</td>\n",
              "      <td>0.330357</td>\n",
              "      <td>0.300223</td>\n",
              "      <td>0.304688</td>\n",
              "      <td>0.263292</td>\n",
              "      <td>739396000</td>\n",
              "    </tr>\n",
              "    <tr>\n",
              "      <th>3</th>\n",
              "      <td>2001-01-05</td>\n",
              "      <td>0.302455</td>\n",
              "      <td>0.310268</td>\n",
              "      <td>0.286830</td>\n",
              "      <td>0.292411</td>\n",
              "      <td>0.252684</td>\n",
              "      <td>412356000</td>\n",
              "    </tr>\n",
              "    <tr>\n",
              "      <th>4</th>\n",
              "      <td>2001-01-08</td>\n",
              "      <td>0.302455</td>\n",
              "      <td>0.303292</td>\n",
              "      <td>0.284598</td>\n",
              "      <td>0.295759</td>\n",
              "      <td>0.255577</td>\n",
              "      <td>373699200</td>\n",
              "    </tr>\n",
              "  </tbody>\n",
              "</table>\n",
              "</div>"
            ],
            "text/plain": [
              "         Date      Open      High       Low     Close  Adj Close     Volume\n",
              "0  2001-01-02  0.265625  0.272321  0.260045  0.265625   0.229537  452312000\n",
              "1  2001-01-03  0.258929  0.297991  0.257813  0.292411   0.252684  817073600\n",
              "2  2001-01-04  0.323940  0.330357  0.300223  0.304688   0.263292  739396000\n",
              "3  2001-01-05  0.302455  0.310268  0.286830  0.292411   0.252684  412356000\n",
              "4  2001-01-08  0.302455  0.303292  0.284598  0.295759   0.255577  373699200"
            ]
          },
          "metadata": {
            "tags": []
          },
          "execution_count": 56
        }
      ]
    },
    {
      "cell_type": "code",
      "metadata": {
        "colab": {
          "base_uri": "https://localhost:8080/",
          "height": 203
        },
        "id": "FJXMm68RT27p",
        "outputId": "01913d3d-d594-41c9-b097-3db744c7a642"
      },
      "source": [
        "# news headlines dataset\n",
        "stock_headlines.head()"
      ],
      "execution_count": null,
      "outputs": [
        {
          "output_type": "execute_result",
          "data": {
            "text/html": [
              "<div>\n",
              "<style scoped>\n",
              "    .dataframe tbody tr th:only-of-type {\n",
              "        vertical-align: middle;\n",
              "    }\n",
              "\n",
              "    .dataframe tbody tr th {\n",
              "        vertical-align: top;\n",
              "    }\n",
              "\n",
              "    .dataframe thead th {\n",
              "        text-align: right;\n",
              "    }\n",
              "</style>\n",
              "<table border=\"1\" class=\"dataframe\">\n",
              "  <thead>\n",
              "    <tr style=\"text-align: right;\">\n",
              "      <th></th>\n",
              "      <th>publish_date</th>\n",
              "      <th>headline_category</th>\n",
              "      <th>headline_text</th>\n",
              "    </tr>\n",
              "  </thead>\n",
              "  <tbody>\n",
              "    <tr>\n",
              "      <th>0</th>\n",
              "      <td>20010102</td>\n",
              "      <td>unknown</td>\n",
              "      <td>Status quo will not be disturbed at Ayodhya; s...</td>\n",
              "    </tr>\n",
              "    <tr>\n",
              "      <th>1</th>\n",
              "      <td>20010102</td>\n",
              "      <td>unknown</td>\n",
              "      <td>Fissures in Hurriyat over Pak visit</td>\n",
              "    </tr>\n",
              "    <tr>\n",
              "      <th>2</th>\n",
              "      <td>20010102</td>\n",
              "      <td>unknown</td>\n",
              "      <td>America's unwanted heading for India?</td>\n",
              "    </tr>\n",
              "    <tr>\n",
              "      <th>3</th>\n",
              "      <td>20010102</td>\n",
              "      <td>unknown</td>\n",
              "      <td>For bigwigs; it is destination Goa</td>\n",
              "    </tr>\n",
              "    <tr>\n",
              "      <th>4</th>\n",
              "      <td>20010102</td>\n",
              "      <td>unknown</td>\n",
              "      <td>Extra buses to clear tourist traffic</td>\n",
              "    </tr>\n",
              "  </tbody>\n",
              "</table>\n",
              "</div>"
            ],
            "text/plain": [
              "   publish_date  ...                                      headline_text\n",
              "0      20010102  ...  Status quo will not be disturbed at Ayodhya; s...\n",
              "1      20010102  ...                Fissures in Hurriyat over Pak visit\n",
              "2      20010102  ...              America's unwanted heading for India?\n",
              "3      20010102  ...                 For bigwigs; it is destination Goa\n",
              "4      20010102  ...               Extra buses to clear tourist traffic\n",
              "\n",
              "[5 rows x 3 columns]"
            ]
          },
          "metadata": {
            "tags": []
          },
          "execution_count": 57
        }
      ]
    },
    {
      "cell_type": "code",
      "metadata": {
        "colab": {
          "base_uri": "https://localhost:8080/"
        },
        "id": "bW-GjMIcT27q",
        "outputId": "08923374-6e00-48e3-e345-e3b669b44ff5"
      },
      "source": [
        "# number of records in both stock_price and stock_headlines datasets\n",
        "len(stock_price), len(stock_headlines)"
      ],
      "execution_count": null,
      "outputs": [
        {
          "output_type": "execute_result",
          "data": {
            "text/plain": [
              "(4904, 3424067)"
            ]
          },
          "metadata": {
            "tags": []
          },
          "execution_count": 58
        }
      ]
    },
    {
      "cell_type": "code",
      "metadata": {
        "colab": {
          "base_uri": "https://localhost:8080/"
        },
        "id": "Knl-1kwFT27q",
        "outputId": "0512876c-827e-4dbb-9593-04c984bf6cc4"
      },
      "source": [
        "# checking for null values in both the datasets\n",
        "stock_price.isna().any(), stock_headlines.isna().any()"
      ],
      "execution_count": null,
      "outputs": [
        {
          "output_type": "execute_result",
          "data": {
            "text/plain": [
              "(Date         False\n",
              " Open         False\n",
              " High         False\n",
              " Low          False\n",
              " Close        False\n",
              " Adj Close    False\n",
              " Volume       False\n",
              " dtype: bool, publish_date         False\n",
              " headline_category    False\n",
              " headline_text        False\n",
              " dtype: bool)"
            ]
          },
          "metadata": {
            "tags": []
          },
          "execution_count": 59
        }
      ]
    },
    {
      "cell_type": "code",
      "metadata": {
        "colab": {
          "base_uri": "https://localhost:8080/",
          "height": 447
        },
        "id": "8wBwqR3sT27r",
        "outputId": "22df599a-8e80-42f8-b402-baf54654c4b6"
      },
      "source": [
        "# dropping duplicates\n",
        "stock_price = stock_price.drop_duplicates()\n",
        "\n",
        "# coverting the datatype of column 'Date' from type object to type 'datetime'\n",
        "stock_price['Date'] = pd.to_datetime(stock_price['Date']).dt.normalize()\n",
        "\n",
        "# filtering the important columns required\n",
        "stock_price = stock_price.filter(['Date', 'Close', 'Open', 'High', 'Low', 'Volume'])\n",
        "\n",
        "# setting column 'Date' as the index column\n",
        "stock_price.set_index('Date', inplace= True)\n",
        "\n",
        "# sorting the data according to the index i.e 'Date'\n",
        "stock_price = stock_price.sort_index(ascending=True, axis=0)\n",
        "stock_price"
      ],
      "execution_count": null,
      "outputs": [
        {
          "output_type": "execute_result",
          "data": {
            "text/html": [
              "<div>\n",
              "<style scoped>\n",
              "    .dataframe tbody tr th:only-of-type {\n",
              "        vertical-align: middle;\n",
              "    }\n",
              "\n",
              "    .dataframe tbody tr th {\n",
              "        vertical-align: top;\n",
              "    }\n",
              "\n",
              "    .dataframe thead th {\n",
              "        text-align: right;\n",
              "    }\n",
              "</style>\n",
              "<table border=\"1\" class=\"dataframe\">\n",
              "  <thead>\n",
              "    <tr style=\"text-align: right;\">\n",
              "      <th></th>\n",
              "      <th>Close</th>\n",
              "      <th>Open</th>\n",
              "      <th>High</th>\n",
              "      <th>Low</th>\n",
              "      <th>Volume</th>\n",
              "    </tr>\n",
              "    <tr>\n",
              "      <th>Date</th>\n",
              "      <th></th>\n",
              "      <th></th>\n",
              "      <th></th>\n",
              "      <th></th>\n",
              "      <th></th>\n",
              "    </tr>\n",
              "  </thead>\n",
              "  <tbody>\n",
              "    <tr>\n",
              "      <th>2001-01-02</th>\n",
              "      <td>0.265625</td>\n",
              "      <td>0.265625</td>\n",
              "      <td>0.272321</td>\n",
              "      <td>0.260045</td>\n",
              "      <td>452312000</td>\n",
              "    </tr>\n",
              "    <tr>\n",
              "      <th>2001-01-03</th>\n",
              "      <td>0.292411</td>\n",
              "      <td>0.258929</td>\n",
              "      <td>0.297991</td>\n",
              "      <td>0.257813</td>\n",
              "      <td>817073600</td>\n",
              "    </tr>\n",
              "    <tr>\n",
              "      <th>2001-01-04</th>\n",
              "      <td>0.304688</td>\n",
              "      <td>0.323940</td>\n",
              "      <td>0.330357</td>\n",
              "      <td>0.300223</td>\n",
              "      <td>739396000</td>\n",
              "    </tr>\n",
              "    <tr>\n",
              "      <th>2001-01-05</th>\n",
              "      <td>0.292411</td>\n",
              "      <td>0.302455</td>\n",
              "      <td>0.310268</td>\n",
              "      <td>0.286830</td>\n",
              "      <td>412356000</td>\n",
              "    </tr>\n",
              "    <tr>\n",
              "      <th>2001-01-08</th>\n",
              "      <td>0.295759</td>\n",
              "      <td>0.302455</td>\n",
              "      <td>0.303292</td>\n",
              "      <td>0.284598</td>\n",
              "      <td>373699200</td>\n",
              "    </tr>\n",
              "    <tr>\n",
              "      <th>...</th>\n",
              "      <td>...</td>\n",
              "      <td>...</td>\n",
              "      <td>...</td>\n",
              "      <td>...</td>\n",
              "      <td>...</td>\n",
              "    </tr>\n",
              "    <tr>\n",
              "      <th>2020-06-24</th>\n",
              "      <td>90.014999</td>\n",
              "      <td>91.250000</td>\n",
              "      <td>92.197502</td>\n",
              "      <td>89.629997</td>\n",
              "      <td>192623200</td>\n",
              "    </tr>\n",
              "    <tr>\n",
              "      <th>2020-06-25</th>\n",
              "      <td>91.209999</td>\n",
              "      <td>90.175003</td>\n",
              "      <td>91.250000</td>\n",
              "      <td>89.392502</td>\n",
              "      <td>137522400</td>\n",
              "    </tr>\n",
              "    <tr>\n",
              "      <th>2020-06-26</th>\n",
              "      <td>88.407501</td>\n",
              "      <td>91.102501</td>\n",
              "      <td>91.330002</td>\n",
              "      <td>88.254997</td>\n",
              "      <td>205256800</td>\n",
              "    </tr>\n",
              "    <tr>\n",
              "      <th>2020-06-29</th>\n",
              "      <td>90.445000</td>\n",
              "      <td>88.312500</td>\n",
              "      <td>90.542503</td>\n",
              "      <td>87.820000</td>\n",
              "      <td>130646000</td>\n",
              "    </tr>\n",
              "    <tr>\n",
              "      <th>2020-06-30</th>\n",
              "      <td>91.199997</td>\n",
              "      <td>90.019997</td>\n",
              "      <td>91.495003</td>\n",
              "      <td>90.000000</td>\n",
              "      <td>140223200</td>\n",
              "    </tr>\n",
              "  </tbody>\n",
              "</table>\n",
              "<p>4904 rows × 5 columns</p>\n",
              "</div>"
            ],
            "text/plain": [
              "                Close       Open       High        Low     Volume\n",
              "Date                                                             \n",
              "2001-01-02   0.265625   0.265625   0.272321   0.260045  452312000\n",
              "2001-01-03   0.292411   0.258929   0.297991   0.257813  817073600\n",
              "2001-01-04   0.304688   0.323940   0.330357   0.300223  739396000\n",
              "2001-01-05   0.292411   0.302455   0.310268   0.286830  412356000\n",
              "2001-01-08   0.295759   0.302455   0.303292   0.284598  373699200\n",
              "...               ...        ...        ...        ...        ...\n",
              "2020-06-24  90.014999  91.250000  92.197502  89.629997  192623200\n",
              "2020-06-25  91.209999  90.175003  91.250000  89.392502  137522400\n",
              "2020-06-26  88.407501  91.102501  91.330002  88.254997  205256800\n",
              "2020-06-29  90.445000  88.312500  90.542503  87.820000  130646000\n",
              "2020-06-30  91.199997  90.019997  91.495003  90.000000  140223200\n",
              "\n",
              "[4904 rows x 5 columns]"
            ]
          },
          "metadata": {
            "tags": []
          },
          "execution_count": 60
        }
      ]
    },
    {
      "cell_type": "code",
      "metadata": {
        "colab": {
          "base_uri": "https://localhost:8080/",
          "height": 447
        },
        "id": "fKvsNEAWT27s",
        "outputId": "b61d174c-a37c-4c30-8880-1c3e2491fb40"
      },
      "source": [
        "# dropping duplicates\n",
        "stock_headlines = stock_headlines.drop_duplicates()\n",
        "\n",
        "# coverting the datatype of column 'Date' from type string to type 'datetime'\n",
        "stock_headlines['publish_date'] = stock_headlines['publish_date'].astype(str)\n",
        "stock_headlines['publish_date'] = stock_headlines['publish_date'].apply(lambda x: x[0:4]+'-'+x[4:6]+'-'+x[6:8])\n",
        "stock_headlines['publish_date'] = pd.to_datetime(stock_headlines['publish_date']).dt.normalize()\n",
        "\n",
        "# filtering the important columns required\n",
        "stock_headlines = stock_headlines.filter(['publish_date', 'headline_text'])\n",
        "\n",
        "# grouping the news headlines according to 'Date'\n",
        "stock_headlines = stock_headlines.groupby(['publish_date'])['headline_text'].apply(lambda x: ','.join(x)).reset_index()\n",
        "\n",
        "# setting column 'Date' as the index column\n",
        "stock_headlines.set_index('publish_date', inplace= True)\n",
        "\n",
        "# sorting the data according to the index i.e 'Date'\n",
        "stock_headlines = stock_headlines.sort_index(ascending=True, axis=0)\n",
        "stock_headlines"
      ],
      "execution_count": null,
      "outputs": [
        {
          "output_type": "execute_result",
          "data": {
            "text/html": [
              "<div>\n",
              "<style scoped>\n",
              "    .dataframe tbody tr th:only-of-type {\n",
              "        vertical-align: middle;\n",
              "    }\n",
              "\n",
              "    .dataframe tbody tr th {\n",
              "        vertical-align: top;\n",
              "    }\n",
              "\n",
              "    .dataframe thead th {\n",
              "        text-align: right;\n",
              "    }\n",
              "</style>\n",
              "<table border=\"1\" class=\"dataframe\">\n",
              "  <thead>\n",
              "    <tr style=\"text-align: right;\">\n",
              "      <th></th>\n",
              "      <th>headline_text</th>\n",
              "    </tr>\n",
              "    <tr>\n",
              "      <th>publish_date</th>\n",
              "      <th></th>\n",
              "    </tr>\n",
              "  </thead>\n",
              "  <tbody>\n",
              "    <tr>\n",
              "      <th>2001-01-02</th>\n",
              "      <td>Status quo will not be disturbed at Ayodhya; s...</td>\n",
              "    </tr>\n",
              "    <tr>\n",
              "      <th>2001-01-03</th>\n",
              "      <td>Powerless north India gropes in the dark,Think...</td>\n",
              "    </tr>\n",
              "    <tr>\n",
              "      <th>2001-01-04</th>\n",
              "      <td>The string that pulled Stephen Hawking to Indi...</td>\n",
              "    </tr>\n",
              "    <tr>\n",
              "      <th>2001-01-05</th>\n",
              "      <td>Light combat craft takes India into club class...</td>\n",
              "    </tr>\n",
              "    <tr>\n",
              "      <th>2001-01-06</th>\n",
              "      <td>Light combat craft takes India into club class...</td>\n",
              "    </tr>\n",
              "    <tr>\n",
              "      <th>...</th>\n",
              "      <td>...</td>\n",
              "    </tr>\n",
              "    <tr>\n",
              "      <th>2020-12-27</th>\n",
              "      <td>#BigInterview! Dhritiman Chatterjee: Nobody da...</td>\n",
              "    </tr>\n",
              "    <tr>\n",
              "      <th>2020-12-28</th>\n",
              "      <td>Horoscope Today; 28 December 2020: Check astro...</td>\n",
              "    </tr>\n",
              "    <tr>\n",
              "      <th>2020-12-29</th>\n",
              "      <td>Man recovers charred remains of 'thief' from h...</td>\n",
              "    </tr>\n",
              "    <tr>\n",
              "      <th>2020-12-30</th>\n",
              "      <td>Numerology Readings 30 December 2020: Predicti...</td>\n",
              "    </tr>\n",
              "    <tr>\n",
              "      <th>2020-12-31</th>\n",
              "      <td>Horoscope Today; 31 December 2020: Check astro...</td>\n",
              "    </tr>\n",
              "  </tbody>\n",
              "</table>\n",
              "<p>7262 rows × 1 columns</p>\n",
              "</div>"
            ],
            "text/plain": [
              "                                                  headline_text\n",
              "publish_date                                                   \n",
              "2001-01-02    Status quo will not be disturbed at Ayodhya; s...\n",
              "2001-01-03    Powerless north India gropes in the dark,Think...\n",
              "2001-01-04    The string that pulled Stephen Hawking to Indi...\n",
              "2001-01-05    Light combat craft takes India into club class...\n",
              "2001-01-06    Light combat craft takes India into club class...\n",
              "...                                                         ...\n",
              "2020-12-27    #BigInterview! Dhritiman Chatterjee: Nobody da...\n",
              "2020-12-28    Horoscope Today; 28 December 2020: Check astro...\n",
              "2020-12-29    Man recovers charred remains of 'thief' from h...\n",
              "2020-12-30    Numerology Readings 30 December 2020: Predicti...\n",
              "2020-12-31    Horoscope Today; 31 December 2020: Check astro...\n",
              "\n",
              "[7262 rows x 1 columns]"
            ]
          },
          "metadata": {
            "tags": []
          },
          "execution_count": 61
        }
      ]
    },
    {
      "cell_type": "code",
      "metadata": {
        "colab": {
          "base_uri": "https://localhost:8080/",
          "height": 417
        },
        "id": "a6m-ue5xT27s",
        "outputId": "113f5bf6-577e-4dbe-efc5-69433b3e9b65"
      },
      "source": [
        "# concatenating the datasets stock_price and stock_headlines\n",
        "stock_data = pd.concat([stock_price, stock_headlines], axis=1)\n",
        "\n",
        "# dropping the null values if any\n",
        "stock_data.dropna(axis=0, inplace=True)\n",
        "\n",
        "# displaying the combined stock_data\n",
        "stock_data"
      ],
      "execution_count": null,
      "outputs": [
        {
          "output_type": "execute_result",
          "data": {
            "text/html": [
              "<div>\n",
              "<style scoped>\n",
              "    .dataframe tbody tr th:only-of-type {\n",
              "        vertical-align: middle;\n",
              "    }\n",
              "\n",
              "    .dataframe tbody tr th {\n",
              "        vertical-align: top;\n",
              "    }\n",
              "\n",
              "    .dataframe thead th {\n",
              "        text-align: right;\n",
              "    }\n",
              "</style>\n",
              "<table border=\"1\" class=\"dataframe\">\n",
              "  <thead>\n",
              "    <tr style=\"text-align: right;\">\n",
              "      <th></th>\n",
              "      <th>Close</th>\n",
              "      <th>Open</th>\n",
              "      <th>High</th>\n",
              "      <th>Low</th>\n",
              "      <th>Volume</th>\n",
              "      <th>headline_text</th>\n",
              "    </tr>\n",
              "  </thead>\n",
              "  <tbody>\n",
              "    <tr>\n",
              "      <th>2001-01-02</th>\n",
              "      <td>0.265625</td>\n",
              "      <td>0.265625</td>\n",
              "      <td>0.272321</td>\n",
              "      <td>0.260045</td>\n",
              "      <td>452312000.0</td>\n",
              "      <td>Status quo will not be disturbed at Ayodhya; s...</td>\n",
              "    </tr>\n",
              "    <tr>\n",
              "      <th>2001-01-03</th>\n",
              "      <td>0.292411</td>\n",
              "      <td>0.258929</td>\n",
              "      <td>0.297991</td>\n",
              "      <td>0.257813</td>\n",
              "      <td>817073600.0</td>\n",
              "      <td>Powerless north India gropes in the dark,Think...</td>\n",
              "    </tr>\n",
              "    <tr>\n",
              "      <th>2001-01-04</th>\n",
              "      <td>0.304688</td>\n",
              "      <td>0.323940</td>\n",
              "      <td>0.330357</td>\n",
              "      <td>0.300223</td>\n",
              "      <td>739396000.0</td>\n",
              "      <td>The string that pulled Stephen Hawking to Indi...</td>\n",
              "    </tr>\n",
              "    <tr>\n",
              "      <th>2001-01-05</th>\n",
              "      <td>0.292411</td>\n",
              "      <td>0.302455</td>\n",
              "      <td>0.310268</td>\n",
              "      <td>0.286830</td>\n",
              "      <td>412356000.0</td>\n",
              "      <td>Light combat craft takes India into club class...</td>\n",
              "    </tr>\n",
              "    <tr>\n",
              "      <th>2001-01-08</th>\n",
              "      <td>0.295759</td>\n",
              "      <td>0.302455</td>\n",
              "      <td>0.303292</td>\n",
              "      <td>0.284598</td>\n",
              "      <td>373699200.0</td>\n",
              "      <td>Sangh Parivar; Babri panel up the ante,Frontru...</td>\n",
              "    </tr>\n",
              "    <tr>\n",
              "      <th>...</th>\n",
              "      <td>...</td>\n",
              "      <td>...</td>\n",
              "      <td>...</td>\n",
              "      <td>...</td>\n",
              "      <td>...</td>\n",
              "      <td>...</td>\n",
              "    </tr>\n",
              "    <tr>\n",
              "      <th>2020-06-24</th>\n",
              "      <td>90.014999</td>\n",
              "      <td>91.250000</td>\n",
              "      <td>92.197502</td>\n",
              "      <td>89.629997</td>\n",
              "      <td>192623200.0</td>\n",
              "      <td>I never thought I had a voice until today: Vid...</td>\n",
              "    </tr>\n",
              "    <tr>\n",
              "      <th>2020-06-25</th>\n",
              "      <td>91.209999</td>\n",
              "      <td>90.175003</td>\n",
              "      <td>91.250000</td>\n",
              "      <td>89.392502</td>\n",
              "      <td>137522400.0</td>\n",
              "      <td>Truck firms look for new export markets to sel...</td>\n",
              "    </tr>\n",
              "    <tr>\n",
              "      <th>2020-06-26</th>\n",
              "      <td>88.407501</td>\n",
              "      <td>91.102501</td>\n",
              "      <td>91.330002</td>\n",
              "      <td>88.254997</td>\n",
              "      <td>205256800.0</td>\n",
              "      <td>Containment zone residents slam high prices ch...</td>\n",
              "    </tr>\n",
              "    <tr>\n",
              "      <th>2020-06-29</th>\n",
              "      <td>90.445000</td>\n",
              "      <td>88.312500</td>\n",
              "      <td>90.542503</td>\n",
              "      <td>87.820000</td>\n",
              "      <td>130646000.0</td>\n",
              "      <td>6 hot and stylish bikini looks of Katrina Kaif...</td>\n",
              "    </tr>\n",
              "    <tr>\n",
              "      <th>2020-06-30</th>\n",
              "      <td>91.199997</td>\n",
              "      <td>90.019997</td>\n",
              "      <td>91.495003</td>\n",
              "      <td>90.000000</td>\n",
              "      <td>140223200.0</td>\n",
              "      <td>Monday blues for office-goers as diesel price ...</td>\n",
              "    </tr>\n",
              "  </tbody>\n",
              "</table>\n",
              "<p>4876 rows × 6 columns</p>\n",
              "</div>"
            ],
            "text/plain": [
              "                Close  ...                                      headline_text\n",
              "2001-01-02   0.265625  ...  Status quo will not be disturbed at Ayodhya; s...\n",
              "2001-01-03   0.292411  ...  Powerless north India gropes in the dark,Think...\n",
              "2001-01-04   0.304688  ...  The string that pulled Stephen Hawking to Indi...\n",
              "2001-01-05   0.292411  ...  Light combat craft takes India into club class...\n",
              "2001-01-08   0.295759  ...  Sangh Parivar; Babri panel up the ante,Frontru...\n",
              "...               ...  ...                                                ...\n",
              "2020-06-24  90.014999  ...  I never thought I had a voice until today: Vid...\n",
              "2020-06-25  91.209999  ...  Truck firms look for new export markets to sel...\n",
              "2020-06-26  88.407501  ...  Containment zone residents slam high prices ch...\n",
              "2020-06-29  90.445000  ...  6 hot and stylish bikini looks of Katrina Kaif...\n",
              "2020-06-30  91.199997  ...  Monday blues for office-goers as diesel price ...\n",
              "\n",
              "[4876 rows x 6 columns]"
            ]
          },
          "metadata": {
            "tags": []
          },
          "execution_count": 65
        }
      ]
    },
    {
      "cell_type": "code",
      "metadata": {
        "colab": {
          "base_uri": "https://localhost:8080/",
          "height": 237
        },
        "id": "6x2YYMPQT27t",
        "outputId": "0ea97725-cd77-4fc9-e32f-96576c3f6372"
      },
      "source": [
        "# importing required libraries to analyze the sentiments\n",
        "nltk.download('vader_lexicon')\n",
        "from nltk.sentiment.vader import SentimentIntensityAnalyzer\n",
        "import unicodedata\n",
        "\n",
        "# initiating the Sentiment Analyzer\n",
        "sid = SentimentIntensityAnalyzer()\n",
        "\n",
        "# calculating sentiment scores\n",
        "stock_data['compound'] = stock_data['headline_text'].apply(lambda x: sid.polarity_scores(x)['compound'])\n",
        "stock_data['negative'] = stock_data['headline_text'].apply(lambda x: sid.polarity_scores(x)['neg'])\n",
        "stock_data['neutral'] = stock_data['headline_text'].apply(lambda x: sid.polarity_scores(x)['neu'])\n",
        "stock_data['positive'] = stock_data['headline_text'].apply(lambda x: sid.polarity_scores(x)['pos'])\n",
        "\n",
        "# displaying the stock data\n",
        "stock_data.head()"
      ],
      "execution_count": null,
      "outputs": [
        {
          "output_type": "stream",
          "text": [
            "[nltk_data] Downloading package vader_lexicon to /root/nltk_data...\n",
            "[nltk_data]   Package vader_lexicon is already up-to-date!\n"
          ],
          "name": "stdout"
        },
        {
          "output_type": "execute_result",
          "data": {
            "text/html": [
              "<div>\n",
              "<style scoped>\n",
              "    .dataframe tbody tr th:only-of-type {\n",
              "        vertical-align: middle;\n",
              "    }\n",
              "\n",
              "    .dataframe tbody tr th {\n",
              "        vertical-align: top;\n",
              "    }\n",
              "\n",
              "    .dataframe thead th {\n",
              "        text-align: right;\n",
              "    }\n",
              "</style>\n",
              "<table border=\"1\" class=\"dataframe\">\n",
              "  <thead>\n",
              "    <tr style=\"text-align: right;\">\n",
              "      <th></th>\n",
              "      <th>Close</th>\n",
              "      <th>Open</th>\n",
              "      <th>High</th>\n",
              "      <th>Low</th>\n",
              "      <th>Volume</th>\n",
              "      <th>headline_text</th>\n",
              "      <th>compound</th>\n",
              "      <th>negative</th>\n",
              "      <th>neutral</th>\n",
              "      <th>positive</th>\n",
              "    </tr>\n",
              "  </thead>\n",
              "  <tbody>\n",
              "    <tr>\n",
              "      <th>2001-01-02</th>\n",
              "      <td>0.265625</td>\n",
              "      <td>0.265625</td>\n",
              "      <td>0.272321</td>\n",
              "      <td>0.260045</td>\n",
              "      <td>452312000.0</td>\n",
              "      <td>Status quo will not be disturbed at Ayodhya; s...</td>\n",
              "      <td>-0.9621</td>\n",
              "      <td>0.119</td>\n",
              "      <td>0.817</td>\n",
              "      <td>0.064</td>\n",
              "    </tr>\n",
              "    <tr>\n",
              "      <th>2001-01-03</th>\n",
              "      <td>0.292411</td>\n",
              "      <td>0.258929</td>\n",
              "      <td>0.297991</td>\n",
              "      <td>0.257813</td>\n",
              "      <td>817073600.0</td>\n",
              "      <td>Powerless north India gropes in the dark,Think...</td>\n",
              "      <td>0.6322</td>\n",
              "      <td>0.084</td>\n",
              "      <td>0.817</td>\n",
              "      <td>0.098</td>\n",
              "    </tr>\n",
              "    <tr>\n",
              "      <th>2001-01-04</th>\n",
              "      <td>0.304688</td>\n",
              "      <td>0.323940</td>\n",
              "      <td>0.330357</td>\n",
              "      <td>0.300223</td>\n",
              "      <td>739396000.0</td>\n",
              "      <td>The string that pulled Stephen Hawking to Indi...</td>\n",
              "      <td>0.6648</td>\n",
              "      <td>0.077</td>\n",
              "      <td>0.843</td>\n",
              "      <td>0.080</td>\n",
              "    </tr>\n",
              "    <tr>\n",
              "      <th>2001-01-05</th>\n",
              "      <td>0.292411</td>\n",
              "      <td>0.302455</td>\n",
              "      <td>0.310268</td>\n",
              "      <td>0.286830</td>\n",
              "      <td>412356000.0</td>\n",
              "      <td>Light combat craft takes India into club class...</td>\n",
              "      <td>0.9032</td>\n",
              "      <td>0.105</td>\n",
              "      <td>0.746</td>\n",
              "      <td>0.149</td>\n",
              "    </tr>\n",
              "    <tr>\n",
              "      <th>2001-01-08</th>\n",
              "      <td>0.295759</td>\n",
              "      <td>0.302455</td>\n",
              "      <td>0.303292</td>\n",
              "      <td>0.284598</td>\n",
              "      <td>373699200.0</td>\n",
              "      <td>Sangh Parivar; Babri panel up the ante,Frontru...</td>\n",
              "      <td>-0.9638</td>\n",
              "      <td>0.119</td>\n",
              "      <td>0.855</td>\n",
              "      <td>0.026</td>\n",
              "    </tr>\n",
              "  </tbody>\n",
              "</table>\n",
              "</div>"
            ],
            "text/plain": [
              "               Close      Open      High  ...  negative  neutral positive\n",
              "2001-01-02  0.265625  0.265625  0.272321  ...     0.119    0.817    0.064\n",
              "2001-01-03  0.292411  0.258929  0.297991  ...     0.084    0.817    0.098\n",
              "2001-01-04  0.304688  0.323940  0.330357  ...     0.077    0.843    0.080\n",
              "2001-01-05  0.292411  0.302455  0.310268  ...     0.105    0.746    0.149\n",
              "2001-01-08  0.295759  0.302455  0.303292  ...     0.119    0.855    0.026\n",
              "\n",
              "[5 rows x 10 columns]"
            ]
          },
          "metadata": {
            "tags": []
          },
          "execution_count": 66
        }
      ]
    },
    {
      "cell_type": "code",
      "metadata": {
        "colab": {
          "base_uri": "https://localhost:8080/",
          "height": 203
        },
        "id": "IXoWPnW6T27u",
        "outputId": "3a42f165-77b1-4351-bc62-63dd5d7395b9"
      },
      "source": [
        "# dropping the 'headline_text' which is unwanted now\n",
        "stock_data.drop(['headline_text'], inplace=True, axis=1)\n",
        "\n",
        "# rearranging the columns of the whole stock_data\n",
        "stock_data = stock_data[['Close', 'compound', 'negative', 'neutral', 'positive', 'Open', 'High', 'Low', 'Volume']]\n",
        "\n",
        "# displaying the final stock_data\n",
        "stock_data.head()"
      ],
      "execution_count": null,
      "outputs": [
        {
          "output_type": "execute_result",
          "data": {
            "text/html": [
              "<div>\n",
              "<style scoped>\n",
              "    .dataframe tbody tr th:only-of-type {\n",
              "        vertical-align: middle;\n",
              "    }\n",
              "\n",
              "    .dataframe tbody tr th {\n",
              "        vertical-align: top;\n",
              "    }\n",
              "\n",
              "    .dataframe thead th {\n",
              "        text-align: right;\n",
              "    }\n",
              "</style>\n",
              "<table border=\"1\" class=\"dataframe\">\n",
              "  <thead>\n",
              "    <tr style=\"text-align: right;\">\n",
              "      <th></th>\n",
              "      <th>Close</th>\n",
              "      <th>compound</th>\n",
              "      <th>negative</th>\n",
              "      <th>neutral</th>\n",
              "      <th>positive</th>\n",
              "      <th>Open</th>\n",
              "      <th>High</th>\n",
              "      <th>Low</th>\n",
              "      <th>Volume</th>\n",
              "    </tr>\n",
              "  </thead>\n",
              "  <tbody>\n",
              "    <tr>\n",
              "      <th>2001-01-02</th>\n",
              "      <td>0.265625</td>\n",
              "      <td>-0.9621</td>\n",
              "      <td>0.119</td>\n",
              "      <td>0.817</td>\n",
              "      <td>0.064</td>\n",
              "      <td>0.265625</td>\n",
              "      <td>0.272321</td>\n",
              "      <td>0.260045</td>\n",
              "      <td>452312000.0</td>\n",
              "    </tr>\n",
              "    <tr>\n",
              "      <th>2001-01-03</th>\n",
              "      <td>0.292411</td>\n",
              "      <td>0.6322</td>\n",
              "      <td>0.084</td>\n",
              "      <td>0.817</td>\n",
              "      <td>0.098</td>\n",
              "      <td>0.258929</td>\n",
              "      <td>0.297991</td>\n",
              "      <td>0.257813</td>\n",
              "      <td>817073600.0</td>\n",
              "    </tr>\n",
              "    <tr>\n",
              "      <th>2001-01-04</th>\n",
              "      <td>0.304688</td>\n",
              "      <td>0.6648</td>\n",
              "      <td>0.077</td>\n",
              "      <td>0.843</td>\n",
              "      <td>0.080</td>\n",
              "      <td>0.323940</td>\n",
              "      <td>0.330357</td>\n",
              "      <td>0.300223</td>\n",
              "      <td>739396000.0</td>\n",
              "    </tr>\n",
              "    <tr>\n",
              "      <th>2001-01-05</th>\n",
              "      <td>0.292411</td>\n",
              "      <td>0.9032</td>\n",
              "      <td>0.105</td>\n",
              "      <td>0.746</td>\n",
              "      <td>0.149</td>\n",
              "      <td>0.302455</td>\n",
              "      <td>0.310268</td>\n",
              "      <td>0.286830</td>\n",
              "      <td>412356000.0</td>\n",
              "    </tr>\n",
              "    <tr>\n",
              "      <th>2001-01-08</th>\n",
              "      <td>0.295759</td>\n",
              "      <td>-0.9638</td>\n",
              "      <td>0.119</td>\n",
              "      <td>0.855</td>\n",
              "      <td>0.026</td>\n",
              "      <td>0.302455</td>\n",
              "      <td>0.303292</td>\n",
              "      <td>0.284598</td>\n",
              "      <td>373699200.0</td>\n",
              "    </tr>\n",
              "  </tbody>\n",
              "</table>\n",
              "</div>"
            ],
            "text/plain": [
              "               Close  compound  negative  ...      High       Low       Volume\n",
              "2001-01-02  0.265625   -0.9621     0.119  ...  0.272321  0.260045  452312000.0\n",
              "2001-01-03  0.292411    0.6322     0.084  ...  0.297991  0.257813  817073600.0\n",
              "2001-01-04  0.304688    0.6648     0.077  ...  0.330357  0.300223  739396000.0\n",
              "2001-01-05  0.292411    0.9032     0.105  ...  0.310268  0.286830  412356000.0\n",
              "2001-01-08  0.295759   -0.9638     0.119  ...  0.303292  0.284598  373699200.0\n",
              "\n",
              "[5 rows x 9 columns]"
            ]
          },
          "metadata": {
            "tags": []
          },
          "execution_count": 67
        }
      ]
    },
    {
      "cell_type": "code",
      "metadata": {
        "id": "XgRpZ8g-T27u"
      },
      "source": [
        "# writing the prepared stock_data to disk\n",
        "stock_data.to_csv('stock_data.csv')"
      ],
      "execution_count": null,
      "outputs": []
    },
    {
      "cell_type": "code",
      "metadata": {
        "colab": {
          "base_uri": "https://localhost:8080/",
          "height": 234
        },
        "id": "JkoGo3OuWkT8",
        "outputId": "99535591-db38-4e87-e28c-3beef0ec13e1"
      },
      "source": [
        "# re-reading the stock_data into pandas dataframe\n",
        "stock_data = pd.read_csv('stock_data.csv', index_col = False)\n",
        "\n",
        "# renaming the column\n",
        "stock_data.rename(columns={'Unnamed: 0':'Date'}, inplace = True)\n",
        "\n",
        "# setting the column 'Date' as the index column\n",
        "stock_data.set_index('Date', inplace=True)\n",
        "\n",
        "# displaying the stock_data\n",
        "stock_data.head()"
      ],
      "execution_count": null,
      "outputs": [
        {
          "output_type": "execute_result",
          "data": {
            "text/html": [
              "<div>\n",
              "<style scoped>\n",
              "    .dataframe tbody tr th:only-of-type {\n",
              "        vertical-align: middle;\n",
              "    }\n",
              "\n",
              "    .dataframe tbody tr th {\n",
              "        vertical-align: top;\n",
              "    }\n",
              "\n",
              "    .dataframe thead th {\n",
              "        text-align: right;\n",
              "    }\n",
              "</style>\n",
              "<table border=\"1\" class=\"dataframe\">\n",
              "  <thead>\n",
              "    <tr style=\"text-align: right;\">\n",
              "      <th></th>\n",
              "      <th>Close</th>\n",
              "      <th>compound</th>\n",
              "      <th>negative</th>\n",
              "      <th>neutral</th>\n",
              "      <th>positive</th>\n",
              "      <th>Open</th>\n",
              "      <th>High</th>\n",
              "      <th>Low</th>\n",
              "      <th>Volume</th>\n",
              "    </tr>\n",
              "    <tr>\n",
              "      <th>Date</th>\n",
              "      <th></th>\n",
              "      <th></th>\n",
              "      <th></th>\n",
              "      <th></th>\n",
              "      <th></th>\n",
              "      <th></th>\n",
              "      <th></th>\n",
              "      <th></th>\n",
              "      <th></th>\n",
              "    </tr>\n",
              "  </thead>\n",
              "  <tbody>\n",
              "    <tr>\n",
              "      <th>2001-01-02</th>\n",
              "      <td>0.265625</td>\n",
              "      <td>-0.9621</td>\n",
              "      <td>0.119</td>\n",
              "      <td>0.817</td>\n",
              "      <td>0.064</td>\n",
              "      <td>0.265625</td>\n",
              "      <td>0.272321</td>\n",
              "      <td>0.260045</td>\n",
              "      <td>452312000.0</td>\n",
              "    </tr>\n",
              "    <tr>\n",
              "      <th>2001-01-03</th>\n",
              "      <td>0.292411</td>\n",
              "      <td>0.6322</td>\n",
              "      <td>0.084</td>\n",
              "      <td>0.817</td>\n",
              "      <td>0.098</td>\n",
              "      <td>0.258929</td>\n",
              "      <td>0.297991</td>\n",
              "      <td>0.257813</td>\n",
              "      <td>817073600.0</td>\n",
              "    </tr>\n",
              "    <tr>\n",
              "      <th>2001-01-04</th>\n",
              "      <td>0.304688</td>\n",
              "      <td>0.6648</td>\n",
              "      <td>0.077</td>\n",
              "      <td>0.843</td>\n",
              "      <td>0.080</td>\n",
              "      <td>0.323940</td>\n",
              "      <td>0.330357</td>\n",
              "      <td>0.300223</td>\n",
              "      <td>739396000.0</td>\n",
              "    </tr>\n",
              "    <tr>\n",
              "      <th>2001-01-05</th>\n",
              "      <td>0.292411</td>\n",
              "      <td>0.9032</td>\n",
              "      <td>0.105</td>\n",
              "      <td>0.746</td>\n",
              "      <td>0.149</td>\n",
              "      <td>0.302455</td>\n",
              "      <td>0.310268</td>\n",
              "      <td>0.286830</td>\n",
              "      <td>412356000.0</td>\n",
              "    </tr>\n",
              "    <tr>\n",
              "      <th>2001-01-08</th>\n",
              "      <td>0.295759</td>\n",
              "      <td>-0.9638</td>\n",
              "      <td>0.119</td>\n",
              "      <td>0.855</td>\n",
              "      <td>0.026</td>\n",
              "      <td>0.302455</td>\n",
              "      <td>0.303292</td>\n",
              "      <td>0.284598</td>\n",
              "      <td>373699200.0</td>\n",
              "    </tr>\n",
              "  </tbody>\n",
              "</table>\n",
              "</div>"
            ],
            "text/plain": [
              "               Close  compound  negative  ...      High       Low       Volume\n",
              "Date                                      ...                                 \n",
              "2001-01-02  0.265625   -0.9621     0.119  ...  0.272321  0.260045  452312000.0\n",
              "2001-01-03  0.292411    0.6322     0.084  ...  0.297991  0.257813  817073600.0\n",
              "2001-01-04  0.304688    0.6648     0.077  ...  0.330357  0.300223  739396000.0\n",
              "2001-01-05  0.292411    0.9032     0.105  ...  0.310268  0.286830  412356000.0\n",
              "2001-01-08  0.295759   -0.9638     0.119  ...  0.303292  0.284598  373699200.0\n",
              "\n",
              "[5 rows x 9 columns]"
            ]
          },
          "metadata": {
            "tags": []
          },
          "execution_count": 69
        }
      ]
    },
    {
      "cell_type": "code",
      "metadata": {
        "colab": {
          "base_uri": "https://localhost:8080/"
        },
        "id": "1OxT_k3qWmhh",
        "outputId": "8a5035f2-cab4-49f4-9490-19d7d865bcdd"
      },
      "source": [
        "# displaying the shape i.e. number of rows and columns of stock_data\n",
        "stock_data.shape"
      ],
      "execution_count": null,
      "outputs": [
        {
          "output_type": "execute_result",
          "data": {
            "text/plain": [
              "(4876, 9)"
            ]
          },
          "metadata": {
            "tags": []
          },
          "execution_count": 70
        }
      ]
    },
    {
      "cell_type": "code",
      "metadata": {
        "colab": {
          "base_uri": "https://localhost:8080/"
        },
        "id": "MBoCp0EQWpAV",
        "outputId": "61927549-e720-4867-f03d-b6b545c1e409"
      },
      "source": [
        "# checking for null values\n",
        "stock_data.isna().any()"
      ],
      "execution_count": null,
      "outputs": [
        {
          "output_type": "execute_result",
          "data": {
            "text/plain": [
              "Close       False\n",
              "compound    False\n",
              "negative    False\n",
              "neutral     False\n",
              "positive    False\n",
              "Open        False\n",
              "High        False\n",
              "Low         False\n",
              "Volume      False\n",
              "dtype: bool"
            ]
          },
          "metadata": {
            "tags": []
          },
          "execution_count": 71
        }
      ]
    },
    {
      "cell_type": "code",
      "metadata": {
        "colab": {
          "base_uri": "https://localhost:8080/",
          "height": 295
        },
        "id": "7605LB_NWsUa",
        "outputId": "4b75144b-a11b-4254-fcd9-e0c35cfebca2"
      },
      "source": [
        "# displaying stock_data statistics\n",
        "stock_data.describe(include='all')"
      ],
      "execution_count": null,
      "outputs": [
        {
          "output_type": "execute_result",
          "data": {
            "text/html": [
              "<div>\n",
              "<style scoped>\n",
              "    .dataframe tbody tr th:only-of-type {\n",
              "        vertical-align: middle;\n",
              "    }\n",
              "\n",
              "    .dataframe tbody tr th {\n",
              "        vertical-align: top;\n",
              "    }\n",
              "\n",
              "    .dataframe thead th {\n",
              "        text-align: right;\n",
              "    }\n",
              "</style>\n",
              "<table border=\"1\" class=\"dataframe\">\n",
              "  <thead>\n",
              "    <tr style=\"text-align: right;\">\n",
              "      <th></th>\n",
              "      <th>Close</th>\n",
              "      <th>compound</th>\n",
              "      <th>negative</th>\n",
              "      <th>neutral</th>\n",
              "      <th>positive</th>\n",
              "      <th>Open</th>\n",
              "      <th>High</th>\n",
              "      <th>Low</th>\n",
              "      <th>Volume</th>\n",
              "    </tr>\n",
              "  </thead>\n",
              "  <tbody>\n",
              "    <tr>\n",
              "      <th>count</th>\n",
              "      <td>4876.000000</td>\n",
              "      <td>4876.000000</td>\n",
              "      <td>4876.000000</td>\n",
              "      <td>4876.000000</td>\n",
              "      <td>4876.000000</td>\n",
              "      <td>4876.000000</td>\n",
              "      <td>4876.000000</td>\n",
              "      <td>4876.000000</td>\n",
              "      <td>4.876000e+03</td>\n",
              "    </tr>\n",
              "    <tr>\n",
              "      <th>mean</th>\n",
              "      <td>17.240855</td>\n",
              "      <td>-0.869162</td>\n",
              "      <td>0.125442</td>\n",
              "      <td>0.788518</td>\n",
              "      <td>0.086045</td>\n",
              "      <td>17.231561</td>\n",
              "      <td>17.406451</td>\n",
              "      <td>17.060156</td>\n",
              "      <td>4.512664e+08</td>\n",
              "    </tr>\n",
              "    <tr>\n",
              "      <th>std</th>\n",
              "      <td>18.701517</td>\n",
              "      <td>0.455489</td>\n",
              "      <td>0.024377</td>\n",
              "      <td>0.033173</td>\n",
              "      <td>0.020861</td>\n",
              "      <td>18.671171</td>\n",
              "      <td>18.873885</td>\n",
              "      <td>18.500307</td>\n",
              "      <td>3.855541e+08</td>\n",
              "    </tr>\n",
              "    <tr>\n",
              "      <th>min</th>\n",
              "      <td>0.234286</td>\n",
              "      <td>-1.000000</td>\n",
              "      <td>0.000000</td>\n",
              "      <td>0.000000</td>\n",
              "      <td>0.000000</td>\n",
              "      <td>0.231964</td>\n",
              "      <td>0.235536</td>\n",
              "      <td>0.227143</td>\n",
              "      <td>3.247000e+07</td>\n",
              "    </tr>\n",
              "    <tr>\n",
              "      <th>25%</th>\n",
              "      <td>2.134196</td>\n",
              "      <td>-0.999800</td>\n",
              "      <td>0.111000</td>\n",
              "      <td>0.768000</td>\n",
              "      <td>0.075000</td>\n",
              "      <td>2.137232</td>\n",
              "      <td>2.173392</td>\n",
              "      <td>2.097143</td>\n",
              "      <td>1.774491e+08</td>\n",
              "    </tr>\n",
              "    <tr>\n",
              "      <th>50%</th>\n",
              "      <td>10.928036</td>\n",
              "      <td>-0.999000</td>\n",
              "      <td>0.127000</td>\n",
              "      <td>0.785000</td>\n",
              "      <td>0.086000</td>\n",
              "      <td>10.909285</td>\n",
              "      <td>11.007143</td>\n",
              "      <td>10.769642</td>\n",
              "      <td>3.374560e+08</td>\n",
              "    </tr>\n",
              "    <tr>\n",
              "      <th>75%</th>\n",
              "      <td>27.350625</td>\n",
              "      <td>-0.994100</td>\n",
              "      <td>0.141000</td>\n",
              "      <td>0.806000</td>\n",
              "      <td>0.096000</td>\n",
              "      <td>27.336249</td>\n",
              "      <td>27.606875</td>\n",
              "      <td>27.106250</td>\n",
              "      <td>6.050912e+08</td>\n",
              "    </tr>\n",
              "    <tr>\n",
              "      <th>max</th>\n",
              "      <td>91.632500</td>\n",
              "      <td>1.000000</td>\n",
              "      <td>0.444000</td>\n",
              "      <td>1.000000</td>\n",
              "      <td>0.608000</td>\n",
              "      <td>91.250000</td>\n",
              "      <td>93.095001</td>\n",
              "      <td>90.567497</td>\n",
              "      <td>3.372970e+09</td>\n",
              "    </tr>\n",
              "  </tbody>\n",
              "</table>\n",
              "</div>"
            ],
            "text/plain": [
              "             Close     compound  ...          Low        Volume\n",
              "count  4876.000000  4876.000000  ...  4876.000000  4.876000e+03\n",
              "mean     17.240855    -0.869162  ...    17.060156  4.512664e+08\n",
              "std      18.701517     0.455489  ...    18.500307  3.855541e+08\n",
              "min       0.234286    -1.000000  ...     0.227143  3.247000e+07\n",
              "25%       2.134196    -0.999800  ...     2.097143  1.774491e+08\n",
              "50%      10.928036    -0.999000  ...    10.769642  3.374560e+08\n",
              "75%      27.350625    -0.994100  ...    27.106250  6.050912e+08\n",
              "max      91.632500     1.000000  ...    90.567497  3.372970e+09\n",
              "\n",
              "[8 rows x 9 columns]"
            ]
          },
          "metadata": {
            "tags": []
          },
          "execution_count": 72
        }
      ]
    },
    {
      "cell_type": "code",
      "metadata": {
        "colab": {
          "base_uri": "https://localhost:8080/"
        },
        "id": "3v2X7EqOWuxS",
        "outputId": "7d6ec315-1aae-4d04-8b46-08944f3fbb57"
      },
      "source": [
        "# displaying stock_data information\n",
        "stock_data.info()"
      ],
      "execution_count": null,
      "outputs": [
        {
          "output_type": "stream",
          "text": [
            "<class 'pandas.core.frame.DataFrame'>\n",
            "Index: 4876 entries, 2001-01-02 to 2020-06-30\n",
            "Data columns (total 9 columns):\n",
            " #   Column    Non-Null Count  Dtype  \n",
            "---  ------    --------------  -----  \n",
            " 0   Close     4876 non-null   float64\n",
            " 1   compound  4876 non-null   float64\n",
            " 2   negative  4876 non-null   float64\n",
            " 3   neutral   4876 non-null   float64\n",
            " 4   positive  4876 non-null   float64\n",
            " 5   Open      4876 non-null   float64\n",
            " 6   High      4876 non-null   float64\n",
            " 7   Low       4876 non-null   float64\n",
            " 8   Volume    4876 non-null   float64\n",
            "dtypes: float64(9)\n",
            "memory usage: 380.9+ KB\n"
          ],
          "name": "stdout"
        }
      ]
    },
    {
      "cell_type": "code",
      "metadata": {
        "colab": {
          "base_uri": "https://localhost:8080/",
          "height": 638
        },
        "id": "yn1f55REWzuo",
        "outputId": "51ec4027-7b5c-4346-f294-d5b4a7a1f633"
      },
      "source": [
        "# setting figure size\n",
        "plt.figure(figsize=(16,10))\n",
        "\n",
        "# plotting close price\n",
        "stock_data['Close'].plot()\n",
        "\n",
        "# setting plot title, x and y labels\n",
        "plt.title(\"Close Price\")\n",
        "plt.xlabel('Date')\n",
        "plt.ylabel('Close Price ($)')"
      ],
      "execution_count": null,
      "outputs": [
        {
          "output_type": "execute_result",
          "data": {
            "text/plain": [
              "Text(0, 0.5, 'Close Price ($)')"
            ]
          },
          "metadata": {
            "tags": []
          },
          "execution_count": 75
        },
        {
          "output_type": "display_data",
          "data": {
            "image/png": "[encoded data removed]",
            "text/plain": [
              "<Figure size 1152x720 with 1 Axes>"
            ]
          },
          "metadata": {
            "tags": [],
            "needs_background": "light"
          }
        }
      ]
    },
    {
      "cell_type": "code",
      "metadata": {
        "colab": {
          "base_uri": "https://localhost:8080/",
          "height": 696
        },
        "id": "9OhXuWyL3Q4R",
        "outputId": "dc5285ab-a67b-42d9-9e19-000f82403195"
      },
      "source": [
        "# calculating 7 day moving average\n",
        "stock_data.rolling(7).mean().head(20)"
      ],
      "execution_count": null,
      "outputs": [
        {
          "output_type": "execute_result",
          "data": {
            "text/html": [
              "<div>\n",
              "<style scoped>\n",
              "    .dataframe tbody tr th:only-of-type {\n",
              "        vertical-align: middle;\n",
              "    }\n",
              "\n",
              "    .dataframe tbody tr th {\n",
              "        vertical-align: top;\n",
              "    }\n",
              "\n",
              "    .dataframe thead th {\n",
              "        text-align: right;\n",
              "    }\n",
              "</style>\n",
              "<table border=\"1\" class=\"dataframe\">\n",
              "  <thead>\n",
              "    <tr style=\"text-align: right;\">\n",
              "      <th></th>\n",
              "      <th>Close</th>\n",
              "      <th>compound</th>\n",
              "      <th>negative</th>\n",
              "      <th>neutral</th>\n",
              "      <th>positive</th>\n",
              "      <th>Open</th>\n",
              "      <th>High</th>\n",
              "      <th>Low</th>\n",
              "      <th>Volume</th>\n",
              "    </tr>\n",
              "    <tr>\n",
              "      <th>Date</th>\n",
              "      <th></th>\n",
              "      <th></th>\n",
              "      <th></th>\n",
              "      <th></th>\n",
              "      <th></th>\n",
              "      <th></th>\n",
              "      <th></th>\n",
              "      <th></th>\n",
              "      <th></th>\n",
              "    </tr>\n",
              "  </thead>\n",
              "  <tbody>\n",
              "    <tr>\n",
              "      <th>2001-01-02</th>\n",
              "      <td>NaN</td>\n",
              "      <td>NaN</td>\n",
              "      <td>NaN</td>\n",
              "      <td>NaN</td>\n",
              "      <td>NaN</td>\n",
              "      <td>NaN</td>\n",
              "      <td>NaN</td>\n",
              "      <td>NaN</td>\n",
              "      <td>NaN</td>\n",
              "    </tr>\n",
              "    <tr>\n",
              "      <th>2001-01-03</th>\n",
              "      <td>NaN</td>\n",
              "      <td>NaN</td>\n",
              "      <td>NaN</td>\n",
              "      <td>NaN</td>\n",
              "      <td>NaN</td>\n",
              "      <td>NaN</td>\n",
              "      <td>NaN</td>\n",
              "      <td>NaN</td>\n",
              "      <td>NaN</td>\n",
              "    </tr>\n",
              "    <tr>\n",
              "      <th>2001-01-04</th>\n",
              "      <td>NaN</td>\n",
              "      <td>NaN</td>\n",
              "      <td>NaN</td>\n",
              "      <td>NaN</td>\n",
              "      <td>NaN</td>\n",
              "      <td>NaN</td>\n",
              "      <td>NaN</td>\n",
              "      <td>NaN</td>\n",
              "      <td>NaN</td>\n",
              "    </tr>\n",
              "    <tr>\n",
              "      <th>2001-01-05</th>\n",
              "      <td>NaN</td>\n",
              "      <td>NaN</td>\n",
              "      <td>NaN</td>\n",
              "      <td>NaN</td>\n",
              "      <td>NaN</td>\n",
              "      <td>NaN</td>\n",
              "      <td>NaN</td>\n",
              "      <td>NaN</td>\n",
              "      <td>NaN</td>\n",
              "    </tr>\n",
              "    <tr>\n",
              "      <th>2001-01-08</th>\n",
              "      <td>NaN</td>\n",
              "      <td>NaN</td>\n",
              "      <td>NaN</td>\n",
              "      <td>NaN</td>\n",
              "      <td>NaN</td>\n",
              "      <td>NaN</td>\n",
              "      <td>NaN</td>\n",
              "      <td>NaN</td>\n",
              "      <td>NaN</td>\n",
              "    </tr>\n",
              "    <tr>\n",
              "      <th>2001-01-09</th>\n",
              "      <td>NaN</td>\n",
              "      <td>NaN</td>\n",
              "      <td>NaN</td>\n",
              "      <td>NaN</td>\n",
              "      <td>NaN</td>\n",
              "      <td>NaN</td>\n",
              "      <td>NaN</td>\n",
              "      <td>NaN</td>\n",
              "      <td>NaN</td>\n",
              "    </tr>\n",
              "    <tr>\n",
              "      <th>2001-01-10</th>\n",
              "      <td>0.293368</td>\n",
              "      <td>-0.179071</td>\n",
              "      <td>0.121714</td>\n",
              "      <td>0.810429</td>\n",
              "      <td>0.067571</td>\n",
              "      <td>0.293088</td>\n",
              "      <td>0.304687</td>\n",
              "      <td>0.281728</td>\n",
              "      <td>566364000.0</td>\n",
              "    </tr>\n",
              "    <tr>\n",
              "      <th>2001-01-23</th>\n",
              "      <td>0.307717</td>\n",
              "      <td>0.091157</td>\n",
              "      <td>0.109857</td>\n",
              "      <td>0.818571</td>\n",
              "      <td>0.071286</td>\n",
              "      <td>0.304408</td>\n",
              "      <td>0.319196</td>\n",
              "      <td>0.293208</td>\n",
              "      <td>627395200.0</td>\n",
              "    </tr>\n",
              "    <tr>\n",
              "      <th>2001-01-24</th>\n",
              "      <td>0.318240</td>\n",
              "      <td>-0.128286</td>\n",
              "      <td>0.111571</td>\n",
              "      <td>0.825286</td>\n",
              "      <td>0.063000</td>\n",
              "      <td>0.320033</td>\n",
              "      <td>0.329400</td>\n",
              "      <td>0.306282</td>\n",
              "      <td>613112000.0</td>\n",
              "    </tr>\n",
              "    <tr>\n",
              "      <th>2001-01-25</th>\n",
              "      <td>0.325574</td>\n",
              "      <td>-0.364029</td>\n",
              "      <td>0.120143</td>\n",
              "      <td>0.818000</td>\n",
              "      <td>0.061714</td>\n",
              "      <td>0.326212</td>\n",
              "      <td>0.334662</td>\n",
              "      <td>0.313775</td>\n",
              "      <td>577442400.0</td>\n",
              "    </tr>\n",
              "    <tr>\n",
              "      <th>2001-01-26</th>\n",
              "      <td>0.333705</td>\n",
              "      <td>-0.365543</td>\n",
              "      <td>0.114429</td>\n",
              "      <td>0.828429</td>\n",
              "      <td>0.057000</td>\n",
              "      <td>0.332749</td>\n",
              "      <td>0.340880</td>\n",
              "      <td>0.321429</td>\n",
              "      <td>587508800.0</td>\n",
              "    </tr>\n",
              "    <tr>\n",
              "      <th>2001-01-29</th>\n",
              "      <td>0.346779</td>\n",
              "      <td>-0.089329</td>\n",
              "      <td>0.103286</td>\n",
              "      <td>0.824714</td>\n",
              "      <td>0.071714</td>\n",
              "      <td>0.339445</td>\n",
              "      <td>0.353037</td>\n",
              "      <td>0.330676</td>\n",
              "      <td>656341600.0</td>\n",
              "    </tr>\n",
              "    <tr>\n",
              "      <th>2001-01-30</th>\n",
              "      <td>0.358418</td>\n",
              "      <td>-0.075343</td>\n",
              "      <td>0.102714</td>\n",
              "      <td>0.822714</td>\n",
              "      <td>0.074429</td>\n",
              "      <td>0.351563</td>\n",
              "      <td>0.364158</td>\n",
              "      <td>0.341677</td>\n",
              "      <td>671126400.0</td>\n",
              "    </tr>\n",
              "    <tr>\n",
              "      <th>2001-01-31</th>\n",
              "      <td>0.371333</td>\n",
              "      <td>-0.073514</td>\n",
              "      <td>0.084000</td>\n",
              "      <td>0.832714</td>\n",
              "      <td>0.083143</td>\n",
              "      <td>0.363839</td>\n",
              "      <td>0.378189</td>\n",
              "      <td>0.355389</td>\n",
              "      <td>692544000.0</td>\n",
              "    </tr>\n",
              "    <tr>\n",
              "      <th>2001-02-01</th>\n",
              "      <td>0.372927</td>\n",
              "      <td>-0.324900</td>\n",
              "      <td>0.093857</td>\n",
              "      <td>0.826286</td>\n",
              "      <td>0.079714</td>\n",
              "      <td>0.367347</td>\n",
              "      <td>0.379624</td>\n",
              "      <td>0.359056</td>\n",
              "      <td>619710400.0</td>\n",
              "    </tr>\n",
              "    <tr>\n",
              "      <th>2001-02-02</th>\n",
              "      <td>0.373246</td>\n",
              "      <td>-0.057300</td>\n",
              "      <td>0.089857</td>\n",
              "      <td>0.804857</td>\n",
              "      <td>0.105143</td>\n",
              "      <td>0.368623</td>\n",
              "      <td>0.382813</td>\n",
              "      <td>0.361448</td>\n",
              "      <td>578317600.0</td>\n",
              "    </tr>\n",
              "    <tr>\n",
              "      <th>2001-02-05</th>\n",
              "      <td>0.373884</td>\n",
              "      <td>0.158714</td>\n",
              "      <td>0.087143</td>\n",
              "      <td>0.797429</td>\n",
              "      <td>0.115286</td>\n",
              "      <td>0.368463</td>\n",
              "      <td>0.382813</td>\n",
              "      <td>0.361448</td>\n",
              "      <td>549232800.0</td>\n",
              "    </tr>\n",
              "    <tr>\n",
              "      <th>2001-02-06</th>\n",
              "      <td>0.377870</td>\n",
              "      <td>0.140486</td>\n",
              "      <td>0.087000</td>\n",
              "      <td>0.799286</td>\n",
              "      <td>0.113571</td>\n",
              "      <td>0.370137</td>\n",
              "      <td>0.386838</td>\n",
              "      <td>0.363839</td>\n",
              "      <td>546360000.0</td>\n",
              "    </tr>\n",
              "    <tr>\n",
              "      <th>2001-02-07</th>\n",
              "      <td>0.375478</td>\n",
              "      <td>0.121786</td>\n",
              "      <td>0.089714</td>\n",
              "      <td>0.797000</td>\n",
              "      <td>0.113286</td>\n",
              "      <td>0.372927</td>\n",
              "      <td>0.384606</td>\n",
              "      <td>0.364477</td>\n",
              "      <td>480411200.0</td>\n",
              "    </tr>\n",
              "    <tr>\n",
              "      <th>2001-02-08</th>\n",
              "      <td>0.372927</td>\n",
              "      <td>0.371843</td>\n",
              "      <td>0.079571</td>\n",
              "      <td>0.799571</td>\n",
              "      <td>0.120857</td>\n",
              "      <td>0.370376</td>\n",
              "      <td>0.382215</td>\n",
              "      <td>0.362723</td>\n",
              "      <td>467797600.0</td>\n",
              "    </tr>\n",
              "  </tbody>\n",
              "</table>\n",
              "</div>"
            ],
            "text/plain": [
              "               Close  compound  negative  ...      High       Low       Volume\n",
              "Date                                      ...                                 \n",
              "2001-01-02       NaN       NaN       NaN  ...       NaN       NaN          NaN\n",
              "2001-01-03       NaN       NaN       NaN  ...       NaN       NaN          NaN\n",
              "2001-01-04       NaN       NaN       NaN  ...       NaN       NaN          NaN\n",
              "2001-01-05       NaN       NaN       NaN  ...       NaN       NaN          NaN\n",
              "2001-01-08       NaN       NaN       NaN  ...       NaN       NaN          NaN\n",
              "2001-01-09       NaN       NaN       NaN  ...       NaN       NaN          NaN\n",
              "2001-01-10  0.293368 -0.179071  0.121714  ...  0.304687  0.281728  566364000.0\n",
              "2001-01-23  0.307717  0.091157  0.109857  ...  0.319196  0.293208  627395200.0\n",
              "2001-01-24  0.318240 -0.128286  0.111571  ...  0.329400  0.306282  613112000.0\n",
              "2001-01-25  0.325574 -0.364029  0.120143  ...  0.334662  0.313775  577442400.0\n",
              "2001-01-26  0.333705 -0.365543  0.114429  ...  0.340880  0.321429  587508800.0\n",
              "2001-01-29  0.346779 -0.089329  0.103286  ...  0.353037  0.330676  656341600.0\n",
              "2001-01-30  0.358418 -0.075343  0.102714  ...  0.364158  0.341677  671126400.0\n",
              "2001-01-31  0.371333 -0.073514  0.084000  ...  0.378189  0.355389  692544000.0\n",
              "2001-02-01  0.372927 -0.324900  0.093857  ...  0.379624  0.359056  619710400.0\n",
              "2001-02-02  0.373246 -0.057300  0.089857  ...  0.382813  0.361448  578317600.0\n",
              "2001-02-05  0.373884  0.158714  0.087143  ...  0.382813  0.361448  549232800.0\n",
              "2001-02-06  0.377870  0.140486  0.087000  ...  0.386838  0.363839  546360000.0\n",
              "2001-02-07  0.375478  0.121786  0.089714  ...  0.384606  0.364477  480411200.0\n",
              "2001-02-08  0.372927  0.371843  0.079571  ...  0.382215  0.362723  467797600.0\n",
              "\n",
              "[20 rows x 9 columns]"
            ]
          },
          "metadata": {
            "tags": []
          },
          "execution_count": 76
        }
      ]
    },
    {
      "cell_type": "code",
      "metadata": {
        "colab": {
          "base_uri": "https://localhost:8080/",
          "height": 623
        },
        "id": "HViEG84s4ekU",
        "outputId": "3f57033c-b8de-495b-f5a9-a2630457d016"
      },
      "source": [
        "# setting figure size\n",
        "plt.figure(figsize=(16,10))\n",
        "\n",
        "# plotting the close price and a 30-day rolling mean of close price\n",
        "stock_data['Close'].plot()\n",
        "stock_data.rolling(window=30).mean()['Close'].plot()"
      ],
      "execution_count": null,
      "outputs": [
        {
          "output_type": "execute_result",
          "data": {
            "text/plain": [
              "<matplotlib.axes._subplots.AxesSubplot at 0x7f958d3aba10>"
            ]
          },
          "metadata": {
            "tags": []
          },
          "execution_count": 77
        },
        {
          "output_type": "display_data",
          "data": {
            "image/png": "[encoded data removed]",
            "text/plain": [
              "<Figure size 1152x720 with 1 Axes>"
            ]
          },
          "metadata": {
            "tags": [],
            "needs_background": "light"
          }
        }
      ]
    },
    {
      "cell_type": "code",
      "metadata": {
        "colab": {
          "base_uri": "https://localhost:8080/",
          "height": 447
        },
        "id": "Izm-22PW4m3k",
        "outputId": "43152127-1e56-4e27-8330-0b58c479c859"
      },
      "source": [
        "# displaying stock_data\n",
        "stock_data"
      ],
      "execution_count": null,
      "outputs": [
        {
          "output_type": "execute_result",
          "data": {
            "text/html": [
              "<div>\n",
              "<style scoped>\n",
              "    .dataframe tbody tr th:only-of-type {\n",
              "        vertical-align: middle;\n",
              "    }\n",
              "\n",
              "    .dataframe tbody tr th {\n",
              "        vertical-align: top;\n",
              "    }\n",
              "\n",
              "    .dataframe thead th {\n",
              "        text-align: right;\n",
              "    }\n",
              "</style>\n",
              "<table border=\"1\" class=\"dataframe\">\n",
              "  <thead>\n",
              "    <tr style=\"text-align: right;\">\n",
              "      <th></th>\n",
              "      <th>Close</th>\n",
              "      <th>compound</th>\n",
              "      <th>negative</th>\n",
              "      <th>neutral</th>\n",
              "      <th>positive</th>\n",
              "      <th>Open</th>\n",
              "      <th>High</th>\n",
              "      <th>Low</th>\n",
              "      <th>Volume</th>\n",
              "    </tr>\n",
              "    <tr>\n",
              "      <th>Date</th>\n",
              "      <th></th>\n",
              "      <th></th>\n",
              "      <th></th>\n",
              "      <th></th>\n",
              "      <th></th>\n",
              "      <th></th>\n",
              "      <th></th>\n",
              "      <th></th>\n",
              "      <th></th>\n",
              "    </tr>\n",
              "  </thead>\n",
              "  <tbody>\n",
              "    <tr>\n",
              "      <th>2001-01-02</th>\n",
              "      <td>0.265625</td>\n",
              "      <td>-0.9621</td>\n",
              "      <td>0.119</td>\n",
              "      <td>0.817</td>\n",
              "      <td>0.064</td>\n",
              "      <td>0.265625</td>\n",
              "      <td>0.272321</td>\n",
              "      <td>0.260045</td>\n",
              "      <td>452312000.0</td>\n",
              "    </tr>\n",
              "    <tr>\n",
              "      <th>2001-01-03</th>\n",
              "      <td>0.292411</td>\n",
              "      <td>0.6322</td>\n",
              "      <td>0.084</td>\n",
              "      <td>0.817</td>\n",
              "      <td>0.098</td>\n",
              "      <td>0.258929</td>\n",
              "      <td>0.297991</td>\n",
              "      <td>0.257813</td>\n",
              "      <td>817073600.0</td>\n",
              "    </tr>\n",
              "    <tr>\n",
              "      <th>2001-01-04</th>\n",
              "      <td>0.304688</td>\n",
              "      <td>0.6648</td>\n",
              "      <td>0.077</td>\n",
              "      <td>0.843</td>\n",
              "      <td>0.080</td>\n",
              "      <td>0.323940</td>\n",
              "      <td>0.330357</td>\n",
              "      <td>0.300223</td>\n",
              "      <td>739396000.0</td>\n",
              "    </tr>\n",
              "    <tr>\n",
              "      <th>2001-01-05</th>\n",
              "      <td>0.292411</td>\n",
              "      <td>0.9032</td>\n",
              "      <td>0.105</td>\n",
              "      <td>0.746</td>\n",
              "      <td>0.149</td>\n",
              "      <td>0.302455</td>\n",
              "      <td>0.310268</td>\n",
              "      <td>0.286830</td>\n",
              "      <td>412356000.0</td>\n",
              "    </tr>\n",
              "    <tr>\n",
              "      <th>2001-01-08</th>\n",
              "      <td>0.295759</td>\n",
              "      <td>-0.9638</td>\n",
              "      <td>0.119</td>\n",
              "      <td>0.855</td>\n",
              "      <td>0.026</td>\n",
              "      <td>0.302455</td>\n",
              "      <td>0.303292</td>\n",
              "      <td>0.284598</td>\n",
              "      <td>373699200.0</td>\n",
              "    </tr>\n",
              "    <tr>\n",
              "      <th>...</th>\n",
              "      <td>...</td>\n",
              "      <td>...</td>\n",
              "      <td>...</td>\n",
              "      <td>...</td>\n",
              "      <td>...</td>\n",
              "      <td>...</td>\n",
              "      <td>...</td>\n",
              "      <td>...</td>\n",
              "      <td>...</td>\n",
              "    </tr>\n",
              "    <tr>\n",
              "      <th>2020-06-24</th>\n",
              "      <td>90.014999</td>\n",
              "      <td>-0.9997</td>\n",
              "      <td>0.115</td>\n",
              "      <td>0.811</td>\n",
              "      <td>0.074</td>\n",
              "      <td>91.250000</td>\n",
              "      <td>92.197502</td>\n",
              "      <td>89.629997</td>\n",
              "      <td>192623200.0</td>\n",
              "    </tr>\n",
              "    <tr>\n",
              "      <th>2020-06-25</th>\n",
              "      <td>91.209999</td>\n",
              "      <td>-0.9999</td>\n",
              "      <td>0.126</td>\n",
              "      <td>0.821</td>\n",
              "      <td>0.053</td>\n",
              "      <td>90.175003</td>\n",
              "      <td>91.250000</td>\n",
              "      <td>89.392502</td>\n",
              "      <td>137522400.0</td>\n",
              "    </tr>\n",
              "    <tr>\n",
              "      <th>2020-06-26</th>\n",
              "      <td>88.407501</td>\n",
              "      <td>-0.9999</td>\n",
              "      <td>0.149</td>\n",
              "      <td>0.766</td>\n",
              "      <td>0.085</td>\n",
              "      <td>91.102501</td>\n",
              "      <td>91.330002</td>\n",
              "      <td>88.254997</td>\n",
              "      <td>205256800.0</td>\n",
              "    </tr>\n",
              "    <tr>\n",
              "      <th>2020-06-29</th>\n",
              "      <td>90.445000</td>\n",
              "      <td>-0.9997</td>\n",
              "      <td>0.122</td>\n",
              "      <td>0.804</td>\n",
              "      <td>0.075</td>\n",
              "      <td>88.312500</td>\n",
              "      <td>90.542503</td>\n",
              "      <td>87.820000</td>\n",
              "      <td>130646000.0</td>\n",
              "    </tr>\n",
              "    <tr>\n",
              "      <th>2020-06-30</th>\n",
              "      <td>91.199997</td>\n",
              "      <td>-0.9998</td>\n",
              "      <td>0.118</td>\n",
              "      <td>0.820</td>\n",
              "      <td>0.062</td>\n",
              "      <td>90.019997</td>\n",
              "      <td>91.495003</td>\n",
              "      <td>90.000000</td>\n",
              "      <td>140223200.0</td>\n",
              "    </tr>\n",
              "  </tbody>\n",
              "</table>\n",
              "<p>4876 rows × 9 columns</p>\n",
              "</div>"
            ],
            "text/plain": [
              "                Close  compound  negative  ...       High        Low       Volume\n",
              "Date                                       ...                                   \n",
              "2001-01-02   0.265625   -0.9621     0.119  ...   0.272321   0.260045  452312000.0\n",
              "2001-01-03   0.292411    0.6322     0.084  ...   0.297991   0.257813  817073600.0\n",
              "2001-01-04   0.304688    0.6648     0.077  ...   0.330357   0.300223  739396000.0\n",
              "2001-01-05   0.292411    0.9032     0.105  ...   0.310268   0.286830  412356000.0\n",
              "2001-01-08   0.295759   -0.9638     0.119  ...   0.303292   0.284598  373699200.0\n",
              "...               ...       ...       ...  ...        ...        ...          ...\n",
              "2020-06-24  90.014999   -0.9997     0.115  ...  92.197502  89.629997  192623200.0\n",
              "2020-06-25  91.209999   -0.9999     0.126  ...  91.250000  89.392502  137522400.0\n",
              "2020-06-26  88.407501   -0.9999     0.149  ...  91.330002  88.254997  205256800.0\n",
              "2020-06-29  90.445000   -0.9997     0.122  ...  90.542503  87.820000  130646000.0\n",
              "2020-06-30  91.199997   -0.9998     0.118  ...  91.495003  90.000000  140223200.0\n",
              "\n",
              "[4876 rows x 9 columns]"
            ]
          },
          "metadata": {
            "tags": []
          },
          "execution_count": 78
        }
      ]
    },
    {
      "cell_type": "code",
      "metadata": {
        "colab": {
          "base_uri": "https://localhost:8080/"
        },
        "id": "bdwD50wk4r_O",
        "outputId": "4d30b81e-88de-4753-87b0-dfb8f9055f44"
      },
      "source": [
        "# calculating data_to_use\n",
        "percentage_of_data = 1.0\n",
        "data_to_use = int(percentage_of_data*(len(stock_data)-1))\n",
        "\n",
        "# using 80% of data for training\n",
        "train_end = int(data_to_use*0.8)\n",
        "total_data = len(stock_data)\n",
        "start = total_data - data_to_use\n",
        "\n",
        "# printing number of records in the training and test datasets\n",
        "print(\"Number of records in Training Data:\", train_end)\n",
        "print(\"Number of records in Test Data:\", total_data - train_end)"
      ],
      "execution_count": null,
      "outputs": [
        {
          "output_type": "stream",
          "text": [
            "Number of records in Training Data: 3900\n",
            "Number of records in Test Data: 976\n"
          ],
          "name": "stdout"
        }
      ]
    },
    {
      "cell_type": "code",
      "metadata": {
        "colab": {
          "base_uri": "https://localhost:8080/"
        },
        "id": "FmHV2EHs4x_K",
        "outputId": "b5582e96-12cd-40c1-f85c-9f702d8cced7"
      },
      "source": [
        "# predicting one step ahead\n",
        "steps_to_predict = 1\n",
        "\n",
        "# capturing data to be used for each column\n",
        "close_price = stock_data.iloc[start:total_data,0] #close\n",
        "compound = stock_data.iloc[start:total_data,1] #compound\n",
        "negative = stock_data.iloc[start:total_data,2] #neg\n",
        "neutral = stock_data.iloc[start:total_data,3] #neu\n",
        "positive = stock_data.iloc[start:total_data,4] #pos\n",
        "open_price = stock_data.iloc[start:total_data,5] #open\n",
        "high = stock_data.iloc[start:total_data,6] #high\n",
        "low = stock_data.iloc[start:total_data,7] #low\n",
        "volume = stock_data.iloc[start:total_data,8] #volume\n",
        "\n",
        "# printing close price\n",
        "print(\"Close Price:\")\n",
        "close_price"
      ],
      "execution_count": null,
      "outputs": [
        {
          "output_type": "stream",
          "text": [
            "Close Price:\n"
          ],
          "name": "stdout"
        },
        {
          "output_type": "execute_result",
          "data": {
            "text/plain": [
              "Date\n",
              "2001-01-03     0.292411\n",
              "2001-01-04     0.304688\n",
              "2001-01-05     0.292411\n",
              "2001-01-08     0.295759\n",
              "2001-01-09     0.306920\n",
              "                ...    \n",
              "2020-06-24    90.014999\n",
              "2020-06-25    91.209999\n",
              "2020-06-26    88.407501\n",
              "2020-06-29    90.445000\n",
              "2020-06-30    91.199997\n",
              "Name: Close, Length: 4875, dtype: float64"
            ]
          },
          "metadata": {
            "tags": []
          },
          "execution_count": 80
        }
      ]
    },
    {
      "cell_type": "code",
      "metadata": {
        "colab": {
          "base_uri": "https://localhost:8080/",
          "height": 388
        },
        "id": "ss6F3ezY42lF",
        "outputId": "7dc88430-0943-455f-db72-f338d6853a8d"
      },
      "source": [
        "# shifting next day close\n",
        "close_price_shifted = close_price.shift(-1) \n",
        "\n",
        "# shifting next day compound\n",
        "compound_shifted = compound.shift(-1) \n",
        "\n",
        "# concatenating the captured training data into a dataframe\n",
        "data = pd.concat([close_price, close_price_shifted, compound, compound_shifted, volume, open_price, high, low], axis=1)\n",
        "\n",
        "# setting column names of the revised stock data\n",
        "data.columns = ['close_price', 'close_price_shifted', 'compound', 'compound_shifted','volume', 'open_price', 'high', 'low']\n",
        "\n",
        "# dropping nulls\n",
        "data = data.dropna()    \n",
        "data.head(10)"
      ],
      "execution_count": null,
      "outputs": [
        {
          "output_type": "execute_result",
          "data": {
            "text/html": [
              "<div>\n",
              "<style scoped>\n",
              "    .dataframe tbody tr th:only-of-type {\n",
              "        vertical-align: middle;\n",
              "    }\n",
              "\n",
              "    .dataframe tbody tr th {\n",
              "        vertical-align: top;\n",
              "    }\n",
              "\n",
              "    .dataframe thead th {\n",
              "        text-align: right;\n",
              "    }\n",
              "</style>\n",
              "<table border=\"1\" class=\"dataframe\">\n",
              "  <thead>\n",
              "    <tr style=\"text-align: right;\">\n",
              "      <th></th>\n",
              "      <th>close_price</th>\n",
              "      <th>close_price_shifted</th>\n",
              "      <th>compound</th>\n",
              "      <th>compound_shifted</th>\n",
              "      <th>volume</th>\n",
              "      <th>open_price</th>\n",
              "      <th>high</th>\n",
              "      <th>low</th>\n",
              "    </tr>\n",
              "    <tr>\n",
              "      <th>Date</th>\n",
              "      <th></th>\n",
              "      <th></th>\n",
              "      <th></th>\n",
              "      <th></th>\n",
              "      <th></th>\n",
              "      <th></th>\n",
              "      <th></th>\n",
              "      <th></th>\n",
              "    </tr>\n",
              "  </thead>\n",
              "  <tbody>\n",
              "    <tr>\n",
              "      <th>2001-01-03</th>\n",
              "      <td>0.292411</td>\n",
              "      <td>0.304688</td>\n",
              "      <td>0.6322</td>\n",
              "      <td>0.6648</td>\n",
              "      <td>817073600.0</td>\n",
              "      <td>0.258929</td>\n",
              "      <td>0.297991</td>\n",
              "      <td>0.257813</td>\n",
              "    </tr>\n",
              "    <tr>\n",
              "      <th>2001-01-04</th>\n",
              "      <td>0.304688</td>\n",
              "      <td>0.292411</td>\n",
              "      <td>0.6648</td>\n",
              "      <td>0.9032</td>\n",
              "      <td>739396000.0</td>\n",
              "      <td>0.323940</td>\n",
              "      <td>0.330357</td>\n",
              "      <td>0.300223</td>\n",
              "    </tr>\n",
              "    <tr>\n",
              "      <th>2001-01-05</th>\n",
              "      <td>0.292411</td>\n",
              "      <td>0.295759</td>\n",
              "      <td>0.9032</td>\n",
              "      <td>-0.9638</td>\n",
              "      <td>412356000.0</td>\n",
              "      <td>0.302455</td>\n",
              "      <td>0.310268</td>\n",
              "      <td>0.286830</td>\n",
              "    </tr>\n",
              "    <tr>\n",
              "      <th>2001-01-08</th>\n",
              "      <td>0.295759</td>\n",
              "      <td>0.306920</td>\n",
              "      <td>-0.9638</td>\n",
              "      <td>-0.9559</td>\n",
              "      <td>373699200.0</td>\n",
              "      <td>0.302455</td>\n",
              "      <td>0.303292</td>\n",
              "      <td>0.284598</td>\n",
              "    </tr>\n",
              "    <tr>\n",
              "      <th>2001-01-09</th>\n",
              "      <td>0.306920</td>\n",
              "      <td>0.295759</td>\n",
              "      <td>-0.9559</td>\n",
              "      <td>-0.5719</td>\n",
              "      <td>588929600.0</td>\n",
              "      <td>0.300223</td>\n",
              "      <td>0.315011</td>\n",
              "      <td>0.295759</td>\n",
              "    </tr>\n",
              "    <tr>\n",
              "      <th>2001-01-10</th>\n",
              "      <td>0.295759</td>\n",
              "      <td>0.366071</td>\n",
              "      <td>-0.5719</td>\n",
              "      <td>0.9295</td>\n",
              "      <td>580781600.0</td>\n",
              "      <td>0.297991</td>\n",
              "      <td>0.303571</td>\n",
              "      <td>0.286830</td>\n",
              "    </tr>\n",
              "    <tr>\n",
              "      <th>2001-01-23</th>\n",
              "      <td>0.366071</td>\n",
              "      <td>0.366071</td>\n",
              "      <td>0.9295</td>\n",
              "      <td>-0.9039</td>\n",
              "      <td>879530400.0</td>\n",
              "      <td>0.344866</td>\n",
              "      <td>0.373884</td>\n",
              "      <td>0.340402</td>\n",
              "    </tr>\n",
              "    <tr>\n",
              "      <th>2001-01-24</th>\n",
              "      <td>0.366071</td>\n",
              "      <td>0.356027</td>\n",
              "      <td>-0.9039</td>\n",
              "      <td>-0.9854</td>\n",
              "      <td>717091200.0</td>\n",
              "      <td>0.368304</td>\n",
              "      <td>0.369420</td>\n",
              "      <td>0.349330</td>\n",
              "    </tr>\n",
              "    <tr>\n",
              "      <th>2001-01-25</th>\n",
              "      <td>0.356027</td>\n",
              "      <td>0.349330</td>\n",
              "      <td>-0.9854</td>\n",
              "      <td>0.8926</td>\n",
              "      <td>489708800.0</td>\n",
              "      <td>0.367188</td>\n",
              "      <td>0.367188</td>\n",
              "      <td>0.352679</td>\n",
              "    </tr>\n",
              "    <tr>\n",
              "      <th>2001-01-26</th>\n",
              "      <td>0.349330</td>\n",
              "      <td>0.387277</td>\n",
              "      <td>0.8926</td>\n",
              "      <td>0.9697</td>\n",
              "      <td>482820800.0</td>\n",
              "      <td>0.348214</td>\n",
              "      <td>0.353795</td>\n",
              "      <td>0.340402</td>\n",
              "    </tr>\n",
              "  </tbody>\n",
              "</table>\n",
              "</div>"
            ],
            "text/plain": [
              "            close_price  close_price_shifted  ...      high       low\n",
              "Date                                          ...                    \n",
              "2001-01-03     0.292411             0.304688  ...  0.297991  0.257813\n",
              "2001-01-04     0.304688             0.292411  ...  0.330357  0.300223\n",
              "2001-01-05     0.292411             0.295759  ...  0.310268  0.286830\n",
              "2001-01-08     0.295759             0.306920  ...  0.303292  0.284598\n",
              "2001-01-09     0.306920             0.295759  ...  0.315011  0.295759\n",
              "2001-01-10     0.295759             0.366071  ...  0.303571  0.286830\n",
              "2001-01-23     0.366071             0.366071  ...  0.373884  0.340402\n",
              "2001-01-24     0.366071             0.356027  ...  0.369420  0.349330\n",
              "2001-01-25     0.356027             0.349330  ...  0.367188  0.352679\n",
              "2001-01-26     0.349330             0.387277  ...  0.353795  0.340402\n",
              "\n",
              "[10 rows x 8 columns]"
            ]
          },
          "metadata": {
            "tags": []
          },
          "execution_count": 81
        }
      ]
    },
    {
      "cell_type": "code",
      "metadata": {
        "colab": {
          "base_uri": "https://localhost:8080/"
        },
        "id": "6coTkV3L4-rn",
        "outputId": "5fffce60-214e-45a1-b724-76495d5b51ec"
      },
      "source": [
        "# setting the target variable as the shifted close_price\n",
        "y = data['close_price_shifted']\n",
        "y"
      ],
      "execution_count": null,
      "outputs": [
        {
          "output_type": "execute_result",
          "data": {
            "text/plain": [
              "Date\n",
              "2001-01-03     0.304688\n",
              "2001-01-04     0.292411\n",
              "2001-01-05     0.295759\n",
              "2001-01-08     0.306920\n",
              "2001-01-09     0.295759\n",
              "                ...    \n",
              "2020-06-23    90.014999\n",
              "2020-06-24    91.209999\n",
              "2020-06-25    88.407501\n",
              "2020-06-26    90.445000\n",
              "2020-06-29    91.199997\n",
              "Name: close_price_shifted, Length: 4874, dtype: float64"
            ]
          },
          "metadata": {
            "tags": []
          },
          "execution_count": 82
        }
      ]
    },
    {
      "cell_type": "code",
      "metadata": {
        "colab": {
          "base_uri": "https://localhost:8080/",
          "height": 447
        },
        "id": "3iZXQ22V5BlV",
        "outputId": "24757719-f107-4d9f-8bfb-24fb2c2fc4f7"
      },
      "source": [
        "# setting the features dataset for prediction  \n",
        "cols = ['close_price', 'compound', 'compound_shifted', 'volume', 'open_price', 'high', 'low']\n",
        "x = data[cols]\n",
        "x"
      ],
      "execution_count": null,
      "outputs": [
        {
          "output_type": "execute_result",
          "data": {
            "text/html": [
              "<div>\n",
              "<style scoped>\n",
              "    .dataframe tbody tr th:only-of-type {\n",
              "        vertical-align: middle;\n",
              "    }\n",
              "\n",
              "    .dataframe tbody tr th {\n",
              "        vertical-align: top;\n",
              "    }\n",
              "\n",
              "    .dataframe thead th {\n",
              "        text-align: right;\n",
              "    }\n",
              "</style>\n",
              "<table border=\"1\" class=\"dataframe\">\n",
              "  <thead>\n",
              "    <tr style=\"text-align: right;\">\n",
              "      <th></th>\n",
              "      <th>close_price</th>\n",
              "      <th>compound</th>\n",
              "      <th>compound_shifted</th>\n",
              "      <th>volume</th>\n",
              "      <th>open_price</th>\n",
              "      <th>high</th>\n",
              "      <th>low</th>\n",
              "    </tr>\n",
              "    <tr>\n",
              "      <th>Date</th>\n",
              "      <th></th>\n",
              "      <th></th>\n",
              "      <th></th>\n",
              "      <th></th>\n",
              "      <th></th>\n",
              "      <th></th>\n",
              "      <th></th>\n",
              "    </tr>\n",
              "  </thead>\n",
              "  <tbody>\n",
              "    <tr>\n",
              "      <th>2001-01-03</th>\n",
              "      <td>0.292411</td>\n",
              "      <td>0.6322</td>\n",
              "      <td>0.6648</td>\n",
              "      <td>817073600.0</td>\n",
              "      <td>0.258929</td>\n",
              "      <td>0.297991</td>\n",
              "      <td>0.257813</td>\n",
              "    </tr>\n",
              "    <tr>\n",
              "      <th>2001-01-04</th>\n",
              "      <td>0.304688</td>\n",
              "      <td>0.6648</td>\n",
              "      <td>0.9032</td>\n",
              "      <td>739396000.0</td>\n",
              "      <td>0.323940</td>\n",
              "      <td>0.330357</td>\n",
              "      <td>0.300223</td>\n",
              "    </tr>\n",
              "    <tr>\n",
              "      <th>2001-01-05</th>\n",
              "      <td>0.292411</td>\n",
              "      <td>0.9032</td>\n",
              "      <td>-0.9638</td>\n",
              "      <td>412356000.0</td>\n",
              "      <td>0.302455</td>\n",
              "      <td>0.310268</td>\n",
              "      <td>0.286830</td>\n",
              "    </tr>\n",
              "    <tr>\n",
              "      <th>2001-01-08</th>\n",
              "      <td>0.295759</td>\n",
              "      <td>-0.9638</td>\n",
              "      <td>-0.9559</td>\n",
              "      <td>373699200.0</td>\n",
              "      <td>0.302455</td>\n",
              "      <td>0.303292</td>\n",
              "      <td>0.284598</td>\n",
              "    </tr>\n",
              "    <tr>\n",
              "      <th>2001-01-09</th>\n",
              "      <td>0.306920</td>\n",
              "      <td>-0.9559</td>\n",
              "      <td>-0.5719</td>\n",
              "      <td>588929600.0</td>\n",
              "      <td>0.300223</td>\n",
              "      <td>0.315011</td>\n",
              "      <td>0.295759</td>\n",
              "    </tr>\n",
              "    <tr>\n",
              "      <th>...</th>\n",
              "      <td>...</td>\n",
              "      <td>...</td>\n",
              "      <td>...</td>\n",
              "      <td>...</td>\n",
              "      <td>...</td>\n",
              "      <td>...</td>\n",
              "      <td>...</td>\n",
              "    </tr>\n",
              "    <tr>\n",
              "      <th>2020-06-23</th>\n",
              "      <td>91.632500</td>\n",
              "      <td>-0.9999</td>\n",
              "      <td>-0.9997</td>\n",
              "      <td>212155600.0</td>\n",
              "      <td>91.000000</td>\n",
              "      <td>93.095001</td>\n",
              "      <td>90.567497</td>\n",
              "    </tr>\n",
              "    <tr>\n",
              "      <th>2020-06-24</th>\n",
              "      <td>90.014999</td>\n",
              "      <td>-0.9997</td>\n",
              "      <td>-0.9999</td>\n",
              "      <td>192623200.0</td>\n",
              "      <td>91.250000</td>\n",
              "      <td>92.197502</td>\n",
              "      <td>89.629997</td>\n",
              "    </tr>\n",
              "    <tr>\n",
              "      <th>2020-06-25</th>\n",
              "      <td>91.209999</td>\n",
              "      <td>-0.9999</td>\n",
              "      <td>-0.9999</td>\n",
              "      <td>137522400.0</td>\n",
              "      <td>90.175003</td>\n",
              "      <td>91.250000</td>\n",
              "      <td>89.392502</td>\n",
              "    </tr>\n",
              "    <tr>\n",
              "      <th>2020-06-26</th>\n",
              "      <td>88.407501</td>\n",
              "      <td>-0.9999</td>\n",
              "      <td>-0.9997</td>\n",
              "      <td>205256800.0</td>\n",
              "      <td>91.102501</td>\n",
              "      <td>91.330002</td>\n",
              "      <td>88.254997</td>\n",
              "    </tr>\n",
              "    <tr>\n",
              "      <th>2020-06-29</th>\n",
              "      <td>90.445000</td>\n",
              "      <td>-0.9997</td>\n",
              "      <td>-0.9998</td>\n",
              "      <td>130646000.0</td>\n",
              "      <td>88.312500</td>\n",
              "      <td>90.542503</td>\n",
              "      <td>87.820000</td>\n",
              "    </tr>\n",
              "  </tbody>\n",
              "</table>\n",
              "<p>4874 rows × 7 columns</p>\n",
              "</div>"
            ],
            "text/plain": [
              "            close_price  compound  ...       high        low\n",
              "Date                               ...                      \n",
              "2001-01-03     0.292411    0.6322  ...   0.297991   0.257813\n",
              "2001-01-04     0.304688    0.6648  ...   0.330357   0.300223\n",
              "2001-01-05     0.292411    0.9032  ...   0.310268   0.286830\n",
              "2001-01-08     0.295759   -0.9638  ...   0.303292   0.284598\n",
              "2001-01-09     0.306920   -0.9559  ...   0.315011   0.295759\n",
              "...                 ...       ...  ...        ...        ...\n",
              "2020-06-23    91.632500   -0.9999  ...  93.095001  90.567497\n",
              "2020-06-24    90.014999   -0.9997  ...  92.197502  89.629997\n",
              "2020-06-25    91.209999   -0.9999  ...  91.250000  89.392502\n",
              "2020-06-26    88.407501   -0.9999  ...  91.330002  88.254997\n",
              "2020-06-29    90.445000   -0.9997  ...  90.542503  87.820000\n",
              "\n",
              "[4874 rows x 7 columns]"
            ]
          },
          "metadata": {
            "tags": []
          },
          "execution_count": 83
        }
      ]
    },
    {
      "cell_type": "code",
      "metadata": {
        "colab": {
          "base_uri": "https://localhost:8080/"
        },
        "id": "5JowFdeS5Ehu",
        "outputId": "aeeea4bb-4e0c-4048-f1e6-a472b7f54b06"
      },
      "source": [
        "# scaling the feature dataset\n",
        "scaler_x = preprocessing.MinMaxScaler (feature_range=(-1, 1))\n",
        "x = np.array(x).reshape((len(x) ,len(cols)))\n",
        "x = scaler_x.fit_transform(x)\n",
        "\n",
        "# scaling the target variable\n",
        "scaler_y = preprocessing.MinMaxScaler (feature_range=(-1, 1))\n",
        "y = np.array (y).reshape ((len( y), 1))\n",
        "y = scaler_y.fit_transform (y)\n",
        "\n",
        "# displaying the scaled feature dataset and the target variable\n",
        "x, y"
      ],
      "execution_count": null,
      "outputs": [
        {
          "output_type": "execute_result",
          "data": {
            "text/plain": [
              "(array([[-0.99872809,  0.6322    ,  0.6648    , ..., -0.99940748,\n",
              "         -0.99865485, -0.99932101],\n",
              "        [-0.99845944,  0.6648    ,  0.9032    , ..., -0.99797895,\n",
              "         -0.99795775, -0.99838212],\n",
              "        [-0.99872809,  0.9032    , -0.9638    , ..., -0.99845105,\n",
              "         -0.99839043, -0.99867862],\n",
              "        ...,\n",
              "        [ 0.99075472, -0.9999    , -0.9999    , ...,  0.97637837,\n",
              "          0.96026251,  0.97398737],\n",
              "        [ 0.92942972, -0.9999    , -0.9997    , ...,  0.99675891,\n",
              "          0.96198559,  0.94880472],\n",
              "        [ 0.97401481, -0.9997    , -0.9998    , ...,  0.93545235,\n",
              "          0.94502449,  0.93917454]]), array([[-0.99845944],\n",
              "        [-0.99872809],\n",
              "        [-0.99865483],\n",
              "        ...,\n",
              "        [ 0.92942972],\n",
              "        [ 0.97401481],\n",
              "        [ 0.99053585]]))"
            ]
          },
          "metadata": {
            "tags": []
          },
          "execution_count": 84
        }
      ]
    },
    {
      "cell_type": "code",
      "metadata": {
        "colab": {
          "base_uri": "https://localhost:8080/"
        },
        "id": "cmjg6w5q5HvD",
        "outputId": "58860bad-2f8a-4efa-bef9-58fca2d70931"
      },
      "source": [
        "# preparing training and test dataset\n",
        "X_train = x[0 : train_end,]\n",
        "X_test = x[train_end+1 : len(x),]    \n",
        "y_train = y[0 : train_end] \n",
        "y_test = y[train_end+1 : len(y)]  \n",
        "\n",
        "# printing the shape of the training and the test datasets\n",
        "print('Number of rows and columns in the Training set X:', X_train.shape, 'and y:', y_train.shape)\n",
        "print('Number of rows and columns in the Test set X:', X_test.shape, 'and y:', y_test.shape)"
      ],
      "execution_count": null,
      "outputs": [
        {
          "output_type": "stream",
          "text": [
            "Number of rows and columns in the Training set X: (3900, 7) and y: (3900, 1)\n",
            "Number of rows and columns in the Test set X: (973, 7) and y: (973, 1)\n"
          ],
          "name": "stdout"
        }
      ]
    },
    {
      "cell_type": "code",
      "metadata": {
        "colab": {
          "base_uri": "https://localhost:8080/"
        },
        "id": "Yght0NJ-5K8I",
        "outputId": "d27aefc4-f67f-4f5e-a0e6-ebfe183ff8fe"
      },
      "source": [
        "# reshaping the feature dataset for feeding into the model\n",
        "X_train = X_train.reshape (X_train.shape + (1,)) \n",
        "X_test = X_test.reshape(X_test.shape + (1,))\n",
        "\n",
        "# printing the re-shaped feature dataset\n",
        "print('Shape of Training set X:', X_train.shape)\n",
        "print('Shape of Test set X:', X_test.shape)"
      ],
      "execution_count": null,
      "outputs": [
        {
          "output_type": "stream",
          "text": [
            "Shape of Training set X: (3900, 7, 1)\n",
            "Shape of Test set X: (973, 7, 1)\n"
          ],
          "name": "stdout"
        }
      ]
    },
    {
      "cell_type": "code",
      "metadata": {
        "colab": {
          "base_uri": "https://localhost:8080/"
        },
        "id": "Gy57M5Su5NqQ",
        "outputId": "daf2b3a0-e66d-4a4e-e127-85e6eb0903c7"
      },
      "source": [
        "# setting the seed to achieve consistent and less random predictions at each execution\n",
        "np.random.seed(2016)\n",
        "\n",
        "# setting the model architecture\n",
        "model=Sequential()\n",
        "model.add(LSTM(100,return_sequences=True,activation='tanh',input_shape=(len(cols),1)))\n",
        "model.add(Dropout(0.1))\n",
        "model.add(LSTM(100,return_sequences=True,activation='tanh'))\n",
        "model.add(Dropout(0.1))\n",
        "model.add(LSTM(100,activation='tanh'))\n",
        "model.add(Dropout(0.1))\n",
        "model.add(Dense(1))\n",
        "\n",
        "# printing the model summary\n",
        "model.summary()"
      ],
      "execution_count": null,
      "outputs": [
        {
          "output_type": "stream",
          "text": [
            "Model: \"sequential\"\n",
            "_________________________________________________________________\n",
            "Layer (type)                 Output Shape              Param #   \n",
            "=================================================================\n",
            "lstm (LSTM)                  (None, 7, 100)            40800     \n",
            "_________________________________________________________________\n",
            "dropout (Dropout)            (None, 7, 100)            0         \n",
            "_________________________________________________________________\n",
            "lstm_1 (LSTM)                (None, 7, 100)            80400     \n",
            "_________________________________________________________________\n",
            "dropout_1 (Dropout)          (None, 7, 100)            0         \n",
            "_________________________________________________________________\n",
            "lstm_2 (LSTM)                (None, 100)               80400     \n",
            "_________________________________________________________________\n",
            "dropout_2 (Dropout)          (None, 100)               0         \n",
            "_________________________________________________________________\n",
            "dense (Dense)                (None, 1)                 101       \n",
            "=================================================================\n",
            "Total params: 201,701\n",
            "Trainable params: 201,701\n",
            "Non-trainable params: 0\n",
            "_________________________________________________________________\n"
          ],
          "name": "stdout"
        }
      ]
    },
    {
      "cell_type": "code",
      "metadata": {
        "colab": {
          "base_uri": "https://localhost:8080/"
        },
        "id": "wbKT2Eyj5QdQ",
        "outputId": "e4385ace-3ec4-4e2c-e3c9-21808ffb96f1"
      },
      "source": [
        "# compiling the model\n",
        "model.compile(loss='mse' , optimizer='adam')\n",
        "\n",
        "# fitting the model using the training dataset\n",
        "model.fit(X_train, y_train, validation_split=0.2, epochs=10, batch_size=8, verbose=1)"
      ],
      "execution_count": null,
      "outputs": [
        {
          "output_type": "stream",
          "text": [
            "Epoch 1/10\n",
            "390/390 [==============================] - 26s 16ms/step - loss: 0.0686 - val_loss: 0.1068\n",
            "Epoch 2/10\n",
            "390/390 [==============================] - 5s 12ms/step - loss: 0.0123 - val_loss: 0.0023\n",
            "Epoch 3/10\n",
            "390/390 [==============================] - 5s 12ms/step - loss: 0.0028 - val_loss: 0.0029\n",
            "Epoch 4/10\n",
            "390/390 [==============================] - 5s 12ms/step - loss: 0.0024 - val_loss: 0.0035\n",
            "Epoch 5/10\n",
            "390/390 [==============================] - 5s 12ms/step - loss: 0.0019 - val_loss: 2.0600e-04\n",
            "Epoch 6/10\n",
            "390/390 [==============================] - 5s 12ms/step - loss: 0.0018 - val_loss: 5.6501e-04\n",
            "Epoch 7/10\n",
            "390/390 [==============================] - 5s 12ms/step - loss: 0.0017 - val_loss: 3.5968e-04\n",
            "Epoch 8/10\n",
            "390/390 [==============================] - 5s 12ms/step - loss: 0.0015 - val_loss: 2.3957e-04\n",
            "Epoch 9/10\n",
            "390/390 [==============================] - 5s 12ms/step - loss: 0.0014 - val_loss: 5.0093e-04\n",
            "Epoch 10/10\n",
            "390/390 [==============================] - 5s 12ms/step - loss: 0.0011 - val_loss: 3.6999e-04\n"
          ],
          "name": "stdout"
        },
        {
          "output_type": "execute_result",
          "data": {
            "text/plain": [
              "<keras.callbacks.History at 0x7f95880f25d0>"
            ]
          },
          "metadata": {
            "tags": []
          },
          "execution_count": 88
        }
      ]
    },
    {
      "cell_type": "code",
      "metadata": {
        "colab": {
          "base_uri": "https://localhost:8080/"
        },
        "id": "rQZYArHO5Tlr",
        "outputId": "0ae947bd-fbba-40b1-9df0-ad7fd59e4169"
      },
      "source": [
        "# saving the model as a json file\n",
        "model_json = model.to_json()\n",
        "with open('model.json', 'w') as json_file:\n",
        "    json_file.write(model_json)\n",
        "    \n",
        "# serialize weights to HDF5\n",
        "model.save_weights('model.h5')\n",
        "print('Model is saved to the disk')"
      ],
      "execution_count": null,
      "outputs": [
        {
          "output_type": "stream",
          "text": [
            "Model is saved to the disk\n"
          ],
          "name": "stdout"
        }
      ]
    },
    {
      "cell_type": "code",
      "metadata": {
        "colab": {
          "base_uri": "https://localhost:8080/"
        },
        "id": "azV-n4t7531c",
        "outputId": "c123dcf5-ecff-4355-eea3-0f6cd79931b7"
      },
      "source": [
        "# performing predictions\n",
        "predictions = model.predict(X_test) \n",
        "\n",
        "# unscaling the predictions\n",
        "predictions = scaler_y.inverse_transform(np.array(predictions).reshape((len(predictions), 1)))\n",
        "\n",
        "# printing the predictions\n",
        "print('Predictions:')\n",
        "predictions[0:5]"
      ],
      "execution_count": null,
      "outputs": [
        {
          "output_type": "stream",
          "text": [
            "Predictions:\n"
          ],
          "name": "stdout"
        },
        {
          "output_type": "execute_result",
          "data": {
            "text/plain": [
              "array([[26.937538],\n",
              "       [27.028671],\n",
              "       [26.956638],\n",
              "       [26.84585 ],\n",
              "       [26.915373]], dtype=float32)"
            ]
          },
          "metadata": {
            "tags": []
          },
          "execution_count": 90
        }
      ]
    },
    {
      "cell_type": "code",
      "metadata": {
        "colab": {
          "base_uri": "https://localhost:8080/"
        },
        "id": "cRy1J4ft56oJ",
        "outputId": "13cffcc5-ca1b-4bde-ebc0-e2e57a15dd02"
      },
      "source": [
        "# calculating the training mean-squared-error\n",
        "train_loss = model.evaluate(X_train, y_train, batch_size = 1)\n",
        "\n",
        "# calculating the test mean-squared-error\n",
        "test_loss = model.evaluate(X_test, y_test, batch_size = 1)\n",
        "\n",
        "# printing the training and the test mean-squared-errors\n",
        "print('Train Loss =', round(train_loss,4))\n",
        "print('Test Loss =', round(test_loss,4))"
      ],
      "execution_count": null,
      "outputs": [
        {
          "output_type": "stream",
          "text": [
            "3900/3900 [==============================] - 11s 2ms/step - loss: 3.2247e-04\n",
            "973/973 [==============================] - 2s 2ms/step - loss: 0.0017\n",
            "Train Loss = 0.0003\n",
            "Test Loss = 0.0017\n"
          ],
          "name": "stdout"
        }
      ]
    },
    {
      "cell_type": "code",
      "metadata": {
        "colab": {
          "base_uri": "https://localhost:8080/"
        },
        "id": "umcqsVXJ593J",
        "outputId": "8f6a1eb6-2738-46ce-b9a5-df8490134200"
      },
      "source": [
        "# calculating root mean squared error\n",
        "root_mean_square_error = np.sqrt(np.mean(np.power((y_test - predictions),2)))\n",
        "print('Root Mean Square Error =', round(root_mean_square_error,4))"
      ],
      "execution_count": null,
      "outputs": [
        {
          "output_type": "stream",
          "text": [
            "Root Mean Square Error = 51.1561\n"
          ],
          "name": "stdout"
        }
      ]
    },
    {
      "cell_type": "code",
      "metadata": {
        "colab": {
          "base_uri": "https://localhost:8080/"
        },
        "id": "veVLqfDU6Dyf",
        "outputId": "8917caa9-af1c-43cf-b598-aa42a88466c5"
      },
      "source": [
        "# calculating root mean squared error using sklearn.metrics package\n",
        "rmse = metrics.mean_squared_error(y_test, predictions)\n",
        "print('Root Mean Square Error (sklearn.metrics) =', round(np.sqrt(rmse),4))"
      ],
      "execution_count": null,
      "outputs": [
        {
          "output_type": "stream",
          "text": [
            "Root Mean Square Error (sklearn.metrics) = 51.1561\n"
          ],
          "name": "stdout"
        }
      ]
    },
    {
      "cell_type": "code",
      "metadata": {
        "id": "SMm8c9uE6GTe"
      },
      "source": [
        "# unscaling the test feature dataset, x_test\n",
        "X_test = scaler_x.inverse_transform(np.array(X_test).reshape((len(X_test), len(cols))))\n",
        "\n",
        "# unscaling the test y dataset, y_test\n",
        "y_train = scaler_y.inverse_transform(np.array(y_train).reshape((len(y_train), 1)))\n",
        "y_test = scaler_y.inverse_transform(np.array(y_test).reshape((len(y_test), 1)))"
      ],
      "execution_count": null,
      "outputs": []
    },
    {
      "cell_type": "code",
      "metadata": {
        "colab": {
          "base_uri": "https://localhost:8080/",
          "height": 625
        },
        "id": "P0aKgp-h6Jg1",
        "outputId": "3d971859-1e55-444e-b49e-33353b2390cd"
      },
      "source": [
        "# plotting\n",
        "plt.figure(figsize=(16,10))\n",
        "\n",
        "# plt.plot([row[0] for row in y_train], label=\"Training Close Price\")\n",
        "plt.plot(predictions, label=\"Predicted Close Price\")\n",
        "plt.plot([row[0] for row in y_test], label=\"Testing Close Price\")\n",
        "plt.legend(loc='upper center', bbox_to_anchor=(0.5, -0.05), fancybox=True, shadow=True, ncol=2)\n",
        "plt.show()"
      ],
      "execution_count": null,
      "outputs": [
        {
          "output_type": "display_data",
          "data": {
            "image/png": "[encoded data removed]",
            "text/plain": [
              "<Figure size 1152x720 with 1 Axes>"
            ]
          },
          "metadata": {
            "tags": [],
            "needs_background": "light"
          }
        }
      ]
    },
    {
      "cell_type": "code",
      "metadata": {
        "id": "Mut2Wp0T6MUq"
      },
      "source": [
        ""
      ],
      "execution_count": null,
      "outputs": []
    }
  ]
}